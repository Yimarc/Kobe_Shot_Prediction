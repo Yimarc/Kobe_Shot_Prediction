{
 "cells": [
  {
   "cell_type": "code",
   "execution_count": 5,
   "metadata": {
    "nbpresent": {
     "id": "4f465f09-7386-4f7e-8f02-ed379bf2bf0c"
    }
   },
   "outputs": [
    {
     "name": "stdout",
     "output_type": "stream",
     "text": [
      "30697\n"
     ]
    }
   ],
   "source": [
    "import numpy as np # linear algebra\n",
    "import pandas as pd # data processing, CSV file I/O (e.g. pd.read_csv)\n",
    "import xgboost as xgb\n"
   ]
  },
  {
   "cell_type": "code",
   "execution_count": 64,
   "metadata": {
    "nbpresent": {
     "id": "6261e183-485d-43f5-aa1d-bf05805453a5"
    }
   },
   "outputs": [
    {
     "name": "stdout",
     "output_type": "stream",
     "text": [
      "<function action_type_fransformation at 0x1a092c8d90>\n",
      "(30697, 40)\n"
     ]
    }
   ],
   "source": [
    "%matplotlib inline \n",
    "import warnings\n",
    "warnings.filterwarnings('ignore')\n",
    "import numpy as np\n",
    "import pandas as pd\n",
    "import matplotlib.pyplot as plt\n",
    "import math\n",
    "from sklearn.model_selection import train_test_split\n",
    "\n",
    "allData = pd.read_csv('data.csv', encoding='utf-8-sig')\n",
    "completeData = pd.read_csv('kobe.csv', encoding='utf-8-sig')\n",
    "referenceData = completeData[[u'GAME_ID',u'GAME_EVENT_ID',u'SHOT_MADE_FLAG']]\n",
    "referenceData['GAME_ID'] = referenceData['GAME_ID'].astype('int')\n",
    "referenceData['GAME_EVENT_ID'] = referenceData['GAME_EVENT_ID'].astype('int')\n",
    "referenceData['SHOT_MADE_FLAG'] = referenceData['SHOT_MADE_FLAG'].astype('float')\n",
    "unknown_data = allData[allData['shot_made_flag'].isnull()]#.reset_index()\n",
    "known_data = allData[allData['shot_made_flag'].notnull()]#.reset_index()\n",
    "\n",
    "for index,unknonw_i in unknown_data.iterrows():\n",
    "    game_id = unknonw_i['game_id']\n",
    "    event_id = unknonw_i['game_event_id']\n",
    "    true_i = referenceData.loc[(referenceData['GAME_ID']==(game_id)) & (referenceData['GAME_EVENT_ID'] == event_id)]    \n",
    "    true_flag = true_i['SHOT_MADE_FLAG'].values\n",
    "    unknown_data.set_value(index, 'shot_made_flag', true_flag)\n",
    "final_complete_data = unknown_data.append(known_data)\n",
    "data = final_complete_data\n",
    "\n",
    "print(final_complete_data.shape) \n",
    "unknown_data = final_complete_data.head(5000)\n",
    "unknown_data.to_csv('unknown_data.csv')\n",
    "known_data = final_complete_data.tail(30697-5000)\n",
    "known_data.to_csv('known_data.csv')"
   ]
  }
 ],
 "metadata": {
  "kernelspec": {
   "display_name": "Python [conda env:anaconda3]",
   "language": "python",
   "name": "conda-env-anaconda3-py"
  },
  "language_info": {
   "codemirror_mode": {
    "name": "ipython",
    "version": 3
   },
   "file_extension": ".py",
   "mimetype": "text/x-python",
   "name": "python",
   "nbconvert_exporter": "python",
   "pygments_lexer": "ipython3",
   "version": "3.6.3"
  },
  "name": "EE380L_HW2.ipynb"
 },
 "nbformat": 4,
 "nbformat_minor": 1
}
