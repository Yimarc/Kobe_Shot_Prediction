{
 "cells": [
  {
   "cell_type": "code",
   "execution_count": 25,
   "metadata": {
    "autoscroll": false,
    "ein.tags": "worksheet-0",
    "slideshow": {
     "slide_type": "-"
    }
   },
   "outputs": [
    {
     "name": "stdout",
     "output_type": "stream",
     "text": [
      "(25697, 26)\n"
     ]
    }
   ],
   "source": [
    "%matplotlib inline \n",
    "import warnings\n",
    "warnings.filterwarnings('ignore')\n",
    "import numpy as np\n",
    "import pandas as pd\n",
    "import matplotlib.pyplot as plt\n",
    "from sklearn.model_selection import train_test_split\n",
    "\n",
    "allData = pd.read_csv('data.csv', encoding='utf-8-sig')\n",
    "data = allData[allData['shot_made_flag'].notnull()].reset_index()\n",
    "print(data.shape)\n"
   ]
  },
  {
   "cell_type": "code",
   "execution_count": 21,
   "metadata": {
    "collapsed": true
   },
   "outputs": [],
   "source": [
    "data[\"action_type\"] = data[\"action_type\"].astype('object')\n",
    "data[\"combined_shot_type\"] = data[\"combined_shot_type\"].astype('category')\n",
    "data[\"game_event_id\"] = data[\"game_event_id\"].astype('category')\n",
    "data[\"game_id\"] = data[\"game_id\"].astype('category')\n",
    "data[\"period\"] = data[\"period\"].astype('object')\n",
    "data[\"playoffs\"] = data[\"playoffs\"].astype('category')\n",
    "data[\"season\"] = data[\"season\"].astype('category')\n",
    "data[\"shot_made_flag\"] = data[\"shot_made_flag\"].astype('category')\n",
    "data[\"shot_type\"] = data[\"shot_type\"].astype('category')\n",
    "data[\"team_id\"] = data[\"team_id\"].astype('category')"
   ]
  },
  {
   "cell_type": "markdown",
   "metadata": {},
   "source": [
    "# Shown features and corresponding hit rate"
   ]
  },
  {
   "cell_type": "code",
   "execution_count": 22,
   "metadata": {},
   "outputs": [
    {
     "data": {
      "image/png": "[encoded data removed]",
      "text/plain": [
       "<matplotlib.figure.Figure at 0x10745a0b8>"
      ]
     },
     "metadata": {},
     "output_type": "display_data"
    }
   ],
   "source": [
    "feature_name='opponent'\n",
    "data[feature_name] = data[feature_name].astype('object')\n",
    "data_features = data[feature_name];\n",
    "data_features = pd.unique(data_features)\n",
    "#print(data_features)\n",
    "hit_rate = np.zeros((data_features.shape[0],1),dtype=np.float32)\n",
    "i = 0\n",
    "for type in data_features:\n",
    "    sub_type = data.loc[data[feature_name] == type]\n",
    "    nb_success_hit = sub_type.loc[sub_type['shot_made_flag'] == 1]\n",
    "    nb_success_hit = nb_success_hit.shape[0]\n",
    "    nb_fail_hit = sub_type.loc[sub_type['shot_made_flag'] == 0]\n",
    "    nb_fail_hit = nb_fail_hit.shape[0]\n",
    "    hit_rate[i] = nb_success_hit/(nb_success_hit+nb_fail_hit)\n",
    "    i = i+1\n",
    "hit_rate = hit_rate.reshape(-1)\n",
    "plt.figure(figsize=(18,8))    \n",
    "plt.bar(data_features,hit_rate)\n",
    "plt.show()"
   ]
  },
  {
   "cell_type": "markdown",
   "metadata": {},
   "source": [
    "# Data pre-processing"
   ]
  },
  {
   "cell_type": "code",
   "execution_count": 27,
   "metadata": {},
   "outputs": [
    {
     "name": "stdout",
     "output_type": "stream",
     "text": [
      "[['Jump Shot' 34.0443 -118.4268 ..., '2000-01' 22 15]\n",
      " ['Jump Shot' 33.9093 -118.3708 ..., '2000-01' 45 16]\n",
      " ['Jump Shot' 33.8693 -118.1318 ..., '2000-01' 52 22]\n",
      " ..., \n",
      " ['Jump Shot' 33.8783 -118.4038 ..., '1999-00' 28 21]\n",
      " ['Jump Shot' 33.7773 -118.2388 ..., '1999-00' 10 26]\n",
      " ['Jump Shot' 33.9723 -118.2688 ..., '1999-00' 39 7]]\n"
     ]
    }
   ],
   "source": [
    "X = data[[u'combined_shot_type', u'lat', u'lon', u'loc_x',\n",
    "       u'loc_y', u'minutes_remaining',\n",
    "       u'period', u'playoffs', u'season',\n",
    "       u'seconds_remaining', u'shot_distance']]\n",
    "X = X.as_matrix()\n",
    "y = data[[u'shot_made_flag']]\n",
    "\n",
    "print(X)\n",
    "\n",
    "X_train, X_test, y_train, y_test = train_test_split(X,y,test_size = 0.33, random_state=42)"
   ]
  },
  {
   "cell_type": "markdown",
   "metadata": {
    "collapsed": true
   },
   "source": [
    "# Simple Trial"
   ]
  },
  {
   "cell_type": "code",
   "execution_count": null,
   "metadata": {
    "collapsed": true
   },
   "outputs": [],
   "source": [
    "import pandas as pd\n",
    "import numpy as np\n",
    "from sklearn.model_selection import (train_test_split,GridSearchCV)\n",
    "from sklearn.metrics import (accuracy_score,roc_auc_score)\n",
    "from sklearn.ensemble import (RandomForestClassifier,GradientBoostingClassifier,AdaBoostClassifier)\n",
    "from sklearn import preprocessing\n",
    "\n",
    "AdaBC = AdaBoostClassifier(n_estimators=20, learning_rate=0.3, random_state=42)\n",
    "AdaBC.fit(X_train,y_train)\n",
    "y_predict_proba_AdaBC = AdaBC.predict_proba(X_test)\n",
    "accuracy_score_AdaBC = accuracy_score(y_test, AdaBC.predict(X_test))\n",
    "roc_auc_score_AdaBC = roc_auc_score(y_test, y_predict_proba_AdaBC[:,1])\n",
    "\n",
    "print('The testing accuracy (accuracy_score) is: %f' %accuracy_score_AdaBC)\n",
    "print('The roc_auc_score is: %f' %roc_auc_score_AdaBC)"
   ]
  }
 ],
 "metadata": {
  "kernelspec": {
   "display_name": "Python [conda env:anaconda3]",
   "language": "python",
   "name": "conda-env-anaconda3-py"
  },
  "language_info": {
   "codemirror_mode": {
    "name": "ipython",
    "version": 3
   },
   "file_extension": ".py",
   "mimetype": "text/x-python",
   "name": "python",
   "nbconvert_exporter": "python",
   "pygments_lexer": "ipython3",
   "version": "3.6.3"
  },
  "name": "EE380L_HW2.ipynb"
 },
 "nbformat": 4,
 "nbformat_minor": 1
}
