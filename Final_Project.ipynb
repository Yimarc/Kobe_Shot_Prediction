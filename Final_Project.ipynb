{
 "cells": [
  {
   "cell_type": "markdown",
   "metadata": {
    "nbpresent": {
     "id": "61c06a31-1214-4e4e-8523-085b00abf724"
    }
   },
   "source": [
    "# Data Acquaision"
   ]
  },
  {
   "cell_type": "code",
   "execution_count": 158,
   "metadata": {
    "collapsed": true,
    "nbpresent": {
     "id": "1e19a91a-d58a-4674-bac4-d731aa55e096"
    }
   },
   "outputs": [],
   "source": [
    "import json\n",
    "import pandas as pd \n",
    "\n",
    "playerID = \"977\"\n",
    "\n",
    "for season in range(1996,2016):\n",
    "    # The stats.nba.com API wants season as \"1996-97\"\n",
    "    seasonString = str(season) + '-' + str(season+1)[2:]\n",
    "    # The stats.nba.com endpoint we are using is http://stats.nba.com/stats/shotchartdetail\n",
    "    # More info on endpoints: https://github.com/seemethere/nba_py/wiki/stats.nba.com-Endpoint-Documentation\n",
    "    shot_chart_url = 'http://stats.nba.com/stats/shotchartdetail?Period=0&VsConference=&LeagueID=00&LastNGames=0&TeamID=0&PlayerPosition=&Position=&Location=&Outcome=&ContextMeasure=FGA&DateFrom=&StartPeriod=&DateTo=&OpponentTeamID=0&ContextFilter=&RangeType=&Season=' + seasonString + '&AheadBehind=&PlayerID=977&EndRange=&VsDivision=&PointDiff=&RookieYear=&GameSegment=&Month=0&ClutchTime=&StartRange=&EndPeriod=&SeasonType=Regular+Season&SeasonSegment=&GameID='\n",
    "    shot_chart_url = 'http://stats.nba.com/stats/shotchartdetail?Period=0&VsConference=&LeagueID=00&LastNGames=0&TeamID=0&PlayerPosition=&Position=&Location=&Outcome=&ContextMeasure=FGA&DateFrom=&StartPeriod=&DateTo=&OpponentTeamID=0&ContextFilter=&RangeType=&Season=' + seasonString + '&AheadBehind=&PlayerID=977&EndRange=&VsDivision=&PointDiff=&RookieYear=&GameSegment=&Month=0&ClutchTime=&StartRange=&EndPeriod=&SeasonType=Playoffs&SeasonSegment=&GameID='\n",
    "    #print(shot_chart_url)\n",
    "    "
   ]
  },
  {
   "cell_type": "markdown",
   "metadata": {
    "nbpresent": {
     "id": "d7e2809a-7cd9-4811-b0e1-887644954c78"
    }
   },
   "source": [
    "# Data Combination"
   ]
  },
  {
   "cell_type": "code",
   "execution_count": 5,
   "metadata": {
    "nbpresent": {
     "id": "4f465f09-7386-4f7e-8f02-ed379bf2bf0c"
    }
   },
   "outputs": [
    {
     "name": "stdout",
     "output_type": "stream",
     "text": [
      "30697\n"
     ]
    }
   ],
   "source": [
    "seasons = []\n",
    "for season in range(1996,2016):\n",
    "    seasonString = './regular/'+str(season) + '.json'\n",
    "    json_data=open(seasonString).read()\n",
    "    data = json.loads(json_data)\n",
    "    # Split response into headers and content\n",
    "    headers = data['resultSets'][0]['headers']\n",
    "    shots = data['resultSets'][0]['rowSet']\n",
    "    # Create pandas dataframe to hold the data\n",
    "    shot_df = pd.DataFrame(shots, columns=headers)\n",
    "    # add extra column for season\n",
    "    shot_df['SEASON'] = str(season) + '-' + str(season+1)[2:]\n",
    "    # add extra column for playoff flag\n",
    "    shot_df['playoffs'] = 0\n",
    "    seasons.append(shot_df)\n",
    "    \n",
    "for season in range(1996,2016):\n",
    "    seasonString = './playoffs/'+str(season) + '.json'\n",
    "    json_data=open(seasonString).read()\n",
    "    data = json.loads(json_data)\n",
    "    # Split response into headers and content\n",
    "    headers = data['resultSets'][0]['headers']\n",
    "    shots = data['resultSets'][0]['rowSet']\n",
    "    # Create pandas dataframe to hold the data\n",
    "    shot_df = pd.DataFrame(shots, columns=headers)\n",
    "    # add extra column for season\n",
    "    shot_df['SEASON'] = str(season) + '-' + str(season+1)[2:]\n",
    "    # add extra column for playoff flag\n",
    "    shot_df['playoffs'] = 1\n",
    "    seasons.append(shot_df)\n",
    "    \n",
    "kobe = pd.concat(seasons)\n",
    "print(len(kobe['GRID_TYPE']))    \n",
    "kobe.to_csv(\"kobe.csv\")\n"
   ]
  },
  {
   "cell_type": "markdown",
   "metadata": {
    "nbpresent": {
     "id": "13b1a61f-76aa-41a8-9e4c-faf2c2eb270b"
    }
   },
   "source": [
    "# Data Recovery (SHOT_MADE_FLAG)"
   ]
  },
  {
   "cell_type": "code",
   "execution_count": 159,
   "metadata": {
    "nbpresent": {
     "id": "6261e183-485d-43f5-aa1d-bf05805453a5"
    }
   },
   "outputs": [
    {
     "name": "stdout",
     "output_type": "stream",
     "text": [
      "(30697, 27)\n"
     ]
    }
   ],
   "source": [
    "%matplotlib inline \n",
    "import warnings\n",
    "warnings.filterwarnings('ignore')\n",
    "import numpy as np\n",
    "import pandas as pd\n",
    "import matplotlib.pyplot as plt\n",
    "from sklearn.model_selection import train_test_split\n",
    "\n",
    "allData = pd.read_csv('data.csv', encoding='utf-8-sig')\n",
    "completeData = pd.read_csv('kobe.csv', encoding='utf-8-sig')\n",
    "referenceData = completeData[[u'GAME_ID',u'GAME_EVENT_ID',u'SHOT_MADE_FLAG']]\n",
    "referenceData['GAME_ID'] = referenceData['GAME_ID'].astype('int')\n",
    "referenceData['GAME_EVENT_ID'] = referenceData['GAME_EVENT_ID'].astype('int')\n",
    "referenceData['SHOT_MADE_FLAG'] = referenceData['SHOT_MADE_FLAG'].astype('float')\n",
    "unknown_data = allData[allData['shot_made_flag'].isnull()]#.reset_index()\n",
    "known_data = allData[allData['shot_made_flag'].notnull()]#.reset_index()\n",
    "\n",
    "for index,unknonw_i in unknown_data.iterrows():\n",
    "    game_id = unknonw_i['game_id']\n",
    "    event_id = unknonw_i['game_event_id']\n",
    "    true_i = referenceData.loc[(referenceData['GAME_ID']==(game_id)) & (referenceData['GAME_EVENT_ID'] == event_id)]    \n",
    "    true_flag = true_i['SHOT_MADE_FLAG'].values\n",
    "    unknown_data.set_value(index, 'shot_made_flag', true_flag)\n",
    "final_complete_data = unknown_data.append(known_data)\n",
    "\n",
    "list = []\n",
    "for row in final_complete_data['matchup']:\n",
    "    if '@' in str(row):\n",
    "        list.append(0)\n",
    "    else:\n",
    "        list.append(1)\n",
    "        \n",
    "final_complete_data['home_field'] = pd.DataFrame(list)\n",
    "final_complete_data = final_complete_data.reset_index()\n",
    "final_complete_data.to_csv('Complete_Data.csv')\n",
    "print(final_complete_data.shape) \n",
    "unknown_data = final_complete_data.head(5000)\n",
    "known_data = final_complete_data.tail(30697-5000)"
   ]
  },
  {
   "cell_type": "markdown",
   "metadata": {
    "nbpresent": {
     "id": "1592741e-a8aa-411a-84be-37ffec33fce9"
    }
   },
   "source": [
    "# Discoverying features and corresponding hit rate"
   ]
  },
  {
   "cell_type": "code",
   "execution_count": 267,
   "metadata": {
    "nbpresent": {
     "id": "11fc8194-f5d5-4f54-8985-2b69fc6c7633"
    }
   },
   "outputs": [
    {
     "data": {
      "image/png": "[encoded data removed]",
      "text/plain": [
       "<matplotlib.figure.Figure at 0x10942eac8>"
      ]
     },
     "metadata": {},
     "output_type": "display_data"
    }
   ],
   "source": [
    "feature_name='shot_distance'\n",
    "data = final_complete_data\n",
    "data[feature_name] = data[feature_name].astype('object')\n",
    "data_features = data[feature_name];\n",
    "data_features = pd.unique(data_features)\n",
    "#print(data_features)\n",
    "hit_rate = np.zeros((data_features.shape[0],1),dtype=np.float32)\n",
    "i = 0\n",
    "for type in data_features:\n",
    "    sub_type = data.loc[data[feature_name] == type]\n",
    "    nb_success_hit = sub_type.loc[sub_type['shot_made_flag'] == 1]\n",
    "    nb_success_hit = nb_success_hit.shape[0]\n",
    "    nb_fail_hit = sub_type.loc[sub_type['shot_made_flag'] == 0]\n",
    "    nb_fail_hit = nb_fail_hit.shape[0]\n",
    "    hit_rate[i] = nb_success_hit/(nb_success_hit+nb_fail_hit)\n",
    "    i = i+1\n",
    "hit_rate = hit_rate.reshape(-1)\n",
    "plt.figure(figsize=(12,4))    \n",
    "plt.bar(data_features,hit_rate)\n",
    "plt.show()"
   ]
  },
  {
   "cell_type": "code",
   "execution_count": 309,
   "metadata": {},
   "outputs": [
    {
     "data": {
      "image/png": "[encoded data removed]",
      "text/plain": [
       "<matplotlib.figure.Figure at 0x1a10f05c18>"
      ]
     },
     "metadata": {},
     "output_type": "display_data"
    }
   ],
   "source": [
    "feature_name='shot_distance'\n",
    "data = unknown_data\n",
    "data[feature_name] = data[feature_name].astype('object')\n",
    "data_features = data[feature_name];\n",
    "data_features = pd.unique(data_features)\n",
    "#print(data_features)\n",
    "hit_rate = np.zeros((data_features.shape[0],1),dtype=np.float32)\n",
    "i = 0\n",
    "for type in data_features:\n",
    "    sub_type = data.loc[data[feature_name] == type]\n",
    "    nb_success_hit = sub_type.loc[sub_type['shot_made_flag'] == 1]\n",
    "    nb_success_hit = nb_success_hit.shape[0]\n",
    "    nb_fail_hit = sub_type.loc[sub_type['shot_made_flag'] == 0]\n",
    "    nb_fail_hit = nb_fail_hit.shape[0]\n",
    "    hit_rate[i] = nb_success_hit/(nb_success_hit+nb_fail_hit)\n",
    "    i = i+1\n",
    "hit_rate = hit_rate.reshape(-1)\n",
    "plt.figure(figsize=(12,4))    \n",
    "plt.bar(data_features,hit_rate)\n",
    "plt.show()"
   ]
  },
  {
   "cell_type": "code",
   "execution_count": 161,
   "metadata": {
    "collapsed": true,
    "nbpresent": {
     "id": "6b461dec-5148-40d6-bd1a-c32d57a9f056"
    }
   },
   "outputs": [],
   "source": [
    "import math\n",
    "import operator\n",
    "def sort_and_partition(data, name, n):\n",
    "    stat = {}\n",
    "    for i, (d, x) in enumerate(zip(data[name], data['shot_made_flag'])):\n",
    "        if not (d in stat) :\n",
    "            stat[d] = [0, 0]\n",
    "        if x == 1:\n",
    "            stat[d][0] += 1\n",
    "            stat[d][1] += 1\n",
    "        else:\n",
    "            stat[d][1] += 1\n",
    "    for key, value in stat.items():\n",
    "        stat[key] = value[0] / value[1]\n",
    "    stat = sorted(stat.items(), key=operator.itemgetter(1))\n",
    "    index_map = {}\n",
    "    for i, (key, value) in enumerate(stat):\n",
    "        index_map[key] = math.floor(i / n)\n",
    "    length = math.ceil(len(stat) / n)\n",
    "    da = {}\n",
    "    zeros = [0 for i in range(length)]\n",
    "    for i in range(length):\n",
    "        da[name + str(i)] = []\n",
    "    for i, l in enumerate(data[name]):\n",
    "        for j in range(length):\n",
    "            if j == index_map[l]:\n",
    "                da[name + str(j)].append(1)\n",
    "            else:\n",
    "                da[name + str(j)].append(0)\n",
    "    return pd.DataFrame(data = da)"
   ]
  },
  {
   "cell_type": "markdown",
   "metadata": {
    "nbpresent": {
     "id": "2d295cf6-13a4-45b9-bfc3-8e0baf902fca"
    }
   },
   "source": [
    "# Data pre-processing and features selections"
   ]
  },
  {
   "cell_type": "code",
   "execution_count": 310,
   "metadata": {
    "nbpresent": {
     "id": "7922793c-cdb9-4f1c-bc6e-2d468c92ee7e"
    }
   },
   "outputs": [
    {
     "name": "stdout",
     "output_type": "stream",
     "text": [
      "(25697, 186)\n",
      "(5000, 186)\n"
     ]
    }
   ],
   "source": [
    "from sklearn import preprocessing\n",
    "\n",
    "## Decide the training set\n",
    "data = final_complete_data\n",
    "X = data[[#u'lat', \n",
    "          #u'lon', \n",
    "          #u'shot_distance',\n",
    "          #u'loc_x',\n",
    "          #u'loc_y'\n",
    "         ]]\n",
    "\n",
    "## Quantization of features\n",
    "seconds = sort_and_partition(data, 'seconds_remaining', 10)\n",
    "mins = sort_and_partition(data, 'minutes_remaining', 3)\n",
    "seasons = sort_and_partition(data, 'season', 1)\n",
    "opponent = sort_and_partition(data, 'opponent', 3)\n",
    "distance = sort_and_partition(data, 'shot_distance', 1)\n",
    "\n",
    "## dummy coded features\n",
    "dummy_action_type = pd.get_dummies(data[[u'action_type']])\n",
    "dummy_combined_shot_type = pd.get_dummies(data[[u'combined_shot_type']])\n",
    "dummy_period = pd.get_dummies(data[[u'period']])      \n",
    "dummy_playoffs = pd.get_dummies(data[[u'playoffs']])\n",
    "dummy_opponent = pd.get_dummies(data[[u'opponent']])\n",
    "dummy_season = pd.get_dummies(data[[u'season']])\n",
    "dummy_shot_type = pd.get_dummies(data[[u'shot_type']])\n",
    "dummy_shot_zone_area = pd.get_dummies(data[[u'shot_zone_area']])\n",
    "dummy_shot_zone_basic = pd.get_dummies(data[[u'shot_zone_basic']])\n",
    "dummy_home_feild = pd.get_dummies(data[[u'home_field']])\n",
    "\n",
    "#Final Features\n",
    "X = pd.concat([X, \\\n",
    "               mins, \\\n",
    "               seconds,\\\n",
    "               seasons,\\\n",
    "               opponent,\\\n",
    "               distance,\\\n",
    "               #dummy_playoffs,\\\n",
    "               #dummy_home_feild,\\\n",
    "               dummy_action_type,\\\n",
    "               #dummy_combined_shot_type,\\\n",
    "               dummy_period,\\\n",
    "               #dummy_shot_type,\\\n",
    "               dummy_shot_zone_area,\\\n",
    "               dummy_shot_zone_basic], axis = 1)\n",
    "X_train = X.tail(30697-5000)\n",
    "X_test = X.head(5000)\n",
    "X_train = X_train.as_matrix()\n",
    "X_test = X_test.as_matrix()\n",
    "\n",
    "#Scaling (Performance is not good)\n",
    "#X_train = preprocessing.scale(X_train)\n",
    "#X_test = preprocessing.scale(X_test)\n",
    "\n",
    "#Dependent\n",
    "y = data[[u'shot_made_flag']]\n",
    "y_train = y.tail(30697-5000)\n",
    "y_test = y.head(5000)\n",
    "y_train = y_train.as_matrix()\n",
    "y_test = y_test.as_matrix()\n",
    "\n",
    "#Print Shapoe\n",
    "print(X_train.shape)\n",
    "print(X_test.shape)\n",
    "\n"
   ]
  },
  {
   "cell_type": "markdown",
   "metadata": {
    "collapsed": true,
    "nbpresent": {
     "id": "3ac6ba3b-9200-4b3c-b493-f875e96cf6ca"
    }
   },
   "source": [
    "# Logistic Regression"
   ]
  },
  {
   "cell_type": "code",
   "execution_count": 311,
   "metadata": {
    "nbpresent": {
     "id": "2b149409-74b7-4384-8960-a3c1065756e7"
    }
   },
   "outputs": [
    {
     "name": "stdout",
     "output_type": "stream",
     "text": [
      "Log loss train: 0.601578\n",
      "Log loss test: 0.607599\n"
     ]
    }
   ],
   "source": [
    "import pandas as pd\n",
    "import numpy as np\n",
    "from sklearn.linear_model import LogisticRegression\n",
    "from sklearn.metrics import (accuracy_score,roc_auc_score,log_loss)\n",
    "\n",
    "LR = LogisticRegression(penalty='l1', dual=False, tol=0.0001, C=1.0, fit_intercept=True, \\\n",
    "                        intercept_scaling=1, class_weight=None, random_state=None, solver='liblinear', \\\n",
    "                        max_iter=10000, multi_class='ovr', verbose=0, warm_start=False, n_jobs=1)\n",
    "LR.fit(X_train,y_train)\n",
    "y_predict_proba_LR = LR.predict_proba(X_test)\n",
    "score_test = log_loss(y_test, y_predict_proba_LR[:,1])\n",
    "y_predict_proba_LR_train = LR.predict_proba(X_train)\n",
    "score_training= log_loss(y_train, y_predict_proba_LR_train[:,1])\n",
    "print('Log loss train: %f' %score_training)\n",
    "print('Log loss test: %f' %score_test)"
   ]
  },
  {
   "cell_type": "markdown",
   "metadata": {
    "nbpresent": {
     "id": "ca852982-293a-48e8-a468-b207b3324c2d"
    }
   },
   "source": [
    "# K-Fold LR (Deprecated)"
   ]
  },
  {
   "cell_type": "code",
   "execution_count": 181,
   "metadata": {
    "nbpresent": {
     "id": "d89fced0-9410-4f68-8e7c-54bfa64eea45"
    }
   },
   "outputs": [
    {
     "name": "stdout",
     "output_type": "stream",
     "text": [
      "Log loss: 0.610321\n"
     ]
    }
   ],
   "source": [
    "import pandas as pd\n",
    "import numpy as np\n",
    "from sklearn.linear_model import LogisticRegression\n",
    "from sklearn.metrics import (accuracy_score,roc_auc_score,log_loss)\n",
    "from sklearn.model_selection import KFold\n",
    "\n",
    "n_folds = 6\n",
    "kf = KFold(n_folds)\n",
    "kf.get_n_splits(X_all)\n",
    "logloss = np.zeros((1,n_folds),dtype=np.double)\n",
    "for k, (train, test) in enumerate(kf.split(X_train,y_train)):\n",
    "     LR = LogisticRegression(penalty='l1', dual=False, tol=0.0001, C=1.0, fit_intercept=True, \\\n",
    "                         intercept_scaling=1, class_weight=None, random_state=None, solver='liblinear', \\\n",
    "                         max_iter=10000, multi_class='ovr', verbose=0, warm_start=False, n_jobs=1)\n",
    "     LR.fit(X_train[train],y_train[train])\n",
    "     y_predict_proba_LR_kfold = LR.predict_proba(X_train[test])\n",
    "     logloss[0][k] = log_loss(y_train[test], y_predict_proba_LR_kfold[:,1])\n",
    "print('Log loss: %f' %np.mean(logloss))"
   ]
  },
  {
   "cell_type": "markdown",
   "metadata": {
    "nbpresent": {
     "id": "586decd9-0bf4-421a-863e-59a59aac123a"
    }
   },
   "source": [
    "# Decision Tree"
   ]
  },
  {
   "cell_type": "code",
   "execution_count": 166,
   "metadata": {
    "nbpresent": {
     "id": "7a4f144b-0728-474c-8ae9-47bb007973e7"
    }
   },
   "outputs": [
    {
     "name": "stdout",
     "output_type": "stream",
     "text": [
      "Decision tree with gini criterion\n",
      "Log loss: 0.626109\n",
      "Decision tree with entropy criterion\n",
      "Log loss: 0.626109\n"
     ]
    }
   ],
   "source": [
    "from sklearn.model_selection import cross_val_score\n",
    "from sklearn import tree\n",
    "from sklearn.externals.six import StringIO\n",
    "from sklearn.tree import export_graphviz\n",
    "import pydotplus\n",
    "\n",
    "print('Decision tree with gini criterion')\n",
    "clf_gini = tree.DecisionTreeClassifier(criterion = 'gini', max_depth = 2)\n",
    "clf_gini.fit(X_train, y_train)\n",
    "y_predict_proba_clf_gini = clf_gini.predict_proba(X_test)\n",
    "score = log_loss(y_test, y_predict_proba_clf_gini[:,1]) \n",
    "print('Log loss: %f' %score)\n",
    "\n",
    "print('Decision tree with entropy criterion')\n",
    "clf_entropy = tree.DecisionTreeClassifier(criterion = 'entropy', max_depth = 2)\n",
    "clf_entropy.fit(X_train, y_train)\n",
    "y_predict_proba_clf_entropy = clf_entropy.predict_proba(X_test)\n",
    "score = log_loss(y_test, y_predict_proba_clf_entropy[:,1]) \n",
    "print('Log loss: %f' %score)\n"
   ]
  },
  {
   "cell_type": "markdown",
   "metadata": {
    "nbpresent": {
     "id": "cb1bec44-1871-454b-9b54-304b62ba4a5f"
    }
   },
   "source": [
    "# Random Forest"
   ]
  },
  {
   "cell_type": "code",
   "execution_count": 12,
   "metadata": {
    "nbpresent": {
     "id": "6f07ce89-2085-46da-b4dd-45e81bdbd929"
    },
    "scrolled": true
   },
   "outputs": [
    {
     "name": "stdout",
     "output_type": "stream",
     "text": [
      "The best parameter 'n_estimators' is: 200\n",
      "The best parameter 'criterion' is: entropy\n",
      "The testing accuracy (accuracy_score) is: 0.662646\n",
      "The roc_auc_score is: 0.689162\n",
      "Logloss: 0.656114\n"
     ]
    }
   ],
   "source": [
    "from sklearn.model_selection import (train_test_split,GridSearchCV)\n",
    "from sklearn.metrics import (accuracy_score,roc_auc_score,log_loss)\n",
    "from sklearn.ensemble import (RandomForestClassifier,GradientBoostingClassifier,AdaBoostClassifier)\n",
    "\n",
    "RFC = RandomForestClassifier()\n",
    "parameters_RFC = {'n_estimators':[100],'criterion':['entropy'],'random_state':[42]}\n",
    "grid_search_RFC = GridSearchCV(RFC, parameters_RFC)                             \n",
    "grid_search_RFC.fit(X_train,y_train)\n",
    "best_n_estimators_RFC = grid_search_RFC.best_params_['n_estimators']\n",
    "best_criterion_RFC = grid_search_RFC.best_params_['criterion']\n",
    "\n",
    "RFC_Best = RandomForestClassifier(n_estimators=best_n_estimators_RFC, criterion=best_criterion_RFC, random_state=42)\n",
    "RFC_Best.fit(X_train,y_train)\n",
    "y_predict_proba_RFC = RFC_Best.predict_proba(X_test)\n",
    "accuracy_score_RFC = accuracy_score(y_test, RFC_Best.predict(X_test))\n",
    "roc_auc_score_RFC = roc_auc_score(y_test, y_predict_proba_RFC[:,1])\n",
    "score = log_loss(y_test, y_predict_proba_RFC[:,1])\n",
    "\n",
    "#print('The best parameter \\'n_estimators\\' is: %d' %best_n_estimators_RFC)\n",
    "#print('The best parameter \\'criterion\\' is: %s' %best_criterion_RFC)\n",
    "#print('The testing accuracy (accuracy_score) is: %f' %accuracy_score_RFC)\n",
    "print('The roc_auc_score is: %f' %roc_auc_score_RFC)\n",
    "print('Logloss: %f' %score)"
   ]
  },
  {
   "cell_type": "markdown",
   "metadata": {
    "nbpresent": {
     "id": "3c570510-a566-4f00-b6e1-1a8ad4ba74cd"
    }
   },
   "source": [
    "# XGBoost"
   ]
  },
  {
   "cell_type": "code",
   "execution_count": 312,
   "metadata": {
    "nbpresent": {
     "id": "dfaa72ad-d144-4aa2-ba33-178f9a6025c1"
    }
   },
   "outputs": [
    {
     "name": "stdout",
     "output_type": "stream",
     "text": [
      "Log loss: 0.605661\n"
     ]
    }
   ],
   "source": [
    "from xgboost import XGBClassifier\n",
    "import pandas as pd\n",
    "import numpy as np\n",
    "from sklearn.linear_model import LogisticRegression\n",
    "from sklearn.metrics import (accuracy_score,roc_auc_score,log_loss)\n",
    "from sklearn.model_selection import GridSearchCV\n",
    "\n",
    "# parameters = {'n_estimators':[200],\\\n",
    "#               'learning_rate':[0.03],\\\n",
    "#               'max_depth':[6],\\\n",
    "#              }\n",
    "# XGB = XGBClassifier(num_class=2,objective='multi:softprob')\n",
    "# grid_search_XGB = GridSearchCV(XGB, parameters)                             \n",
    "# grid_search_XGB.fit(X_train,y_train)\n",
    "# best_n_estimators_XGB = grid_search_XGB.best_params_['n_estimators']\n",
    "# best_learning_rate_XGB = grid_search_XGB.best_params_['learning_rate']\n",
    "# best_max_depth_XGB = grid_search_XGB.best_params_['max_depth']\n",
    "\n",
    "# XGB_Best = XGBClassifier(n_estimators=best_n_estimators_XGB,\\\n",
    "#                           learning_rate=best_learning_rate_XGB,\\\n",
    "#                      num_class=2,\\\n",
    "#                      min_child_weight = 9,\\\n",
    "#                      max_depth=best_max_depth_XGB,\\\n",
    "#                      objective='multi:softprob')\n",
    "\n",
    "XGB_Best = XGBClassifier(n_estimators=200,\\\n",
    "                         learning_rate=0.034,\\\n",
    "                         num_class=2,\\\n",
    "                         min_child_weight = 9,\\\n",
    "                         max_depth=7,\\\n",
    "                         objective='multi:softprob')\n",
    "\n",
    "XGB_Best.fit(X_train,y_train)\n",
    "y_predict_proba_XGB = XGB_Best.predict_proba(X_test)\n",
    "accuracy_score_XGB = accuracy_score(y_test, XGB_Best.predict(X_test))\n",
    "roc_auc_score_XGB = roc_auc_score(y_test, y_predict_proba_XGB[:,1])\n",
    "score = log_loss(y_test, y_predict_proba_XGB[:,1])\n",
    "print('Log loss: %f' %score)"
   ]
  },
  {
   "cell_type": "markdown",
   "metadata": {
    "nbpresent": {
     "id": "1590d60c-90ac-4f29-a692-01b7a7c414c0"
    }
   },
   "source": [
    "# KFolk XBoost (Deprecated)"
   ]
  },
  {
   "cell_type": "code",
   "execution_count": null,
   "metadata": {
    "collapsed": true,
    "nbpresent": {
     "id": "2fd47e0d-66cc-416a-83e9-b9ac27163b72"
    }
   },
   "outputs": [],
   "source": [
    "# import pandas as pd\n",
    "# import numpy as np\n",
    "# from sklearn.linear_model import LogisticRegression\n",
    "# from sklearn.metrics import log_loss\n",
    "# from sklearn.model_selection import KFold\n",
    "# from xgboost import XGBClassifier\n",
    "\n",
    "# n_folds = 6\n",
    "# kf = KFold(n_folds)\n",
    "# kf.get_n_splits(X_all)\n",
    "# logloss = np.zeros((1,n_folds),dtype=np.double)\n",
    "# for k, (train, test) in enumerate(kf.split(X_train,y_train)):\n",
    "#     XGB_Best = XGBClassifier(n_estimators=100,\\\n",
    "#                              learning_rate=0.04,\\\n",
    "#                              num_class=2,\\\n",
    "#                              min_child_weight = 9,\\\n",
    "#                              max_depth=7,\\\n",
    "#                              objective='multi:softprob')\n",
    "#     XGB_Best.fit(X_train[train],y_train[train])\n",
    "#     y_predict_proba_XGB_kfold = XGB_Best.predict_proba(X_train[test])\n",
    "#     logloss[0][k] = log_loss(y_train[test], y_predict_proba_XGB_kfold[:,1])\n",
    "# print('Log loss: %f' %np.mean(logloss))"
   ]
  }
 ],
 "metadata": {
  "kernelspec": {
   "display_name": "Python [conda env:anaconda3]",
   "language": "python",
   "name": "conda-env-anaconda3-py"
  },
  "language_info": {
   "codemirror_mode": {
    "name": "ipython",
    "version": 3
   },
   "file_extension": ".py",
   "mimetype": "text/x-python",
   "name": "python",
   "nbconvert_exporter": "python",
   "pygments_lexer": "ipython3",
   "version": "3.6.3"
  },
  "name": "EE380L_HW2.ipynb"
 },
 "nbformat": 4,
 "nbformat_minor": 1
}
