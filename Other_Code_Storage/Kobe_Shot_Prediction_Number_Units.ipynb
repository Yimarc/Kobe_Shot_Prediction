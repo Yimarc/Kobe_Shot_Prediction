{
 "cells": [
  {
   "cell_type": "markdown",
   "metadata": {
    "nbpresent": {
     "id": "61c06a31-1214-4e4e-8523-085b00abf724"
    }
   },
   "source": [
    "# Data Acquaision From NBA Stats"
   ]
  },
  {
   "cell_type": "code",
   "execution_count": 1,
   "metadata": {
    "collapsed": true,
    "nbpresent": {
     "id": "1e19a91a-d58a-4674-bac4-d731aa55e096"
    }
   },
   "outputs": [],
   "source": [
    "import json\n",
    "import pandas as pd\n",
    "#Kobe's ID\n",
    "playerID = \"977\" \n",
    "for season in range(1996,2016):\n",
    "    # The stats.nba.com API wants season as \"1996-97\"\n",
    "    seasonString = str(season) + '-' + str(season+1)[2:]\n",
    "    # The stats.nba.com endpoint we are using is http://stats.nba.com/stats/shotchartdetail\n",
    "    # More info on endpoints: https://github.com/seemethere/nba_py/wiki/stats.nba.com-Endpoint-Documentation\n",
    "    shot_chart_url_regualr = 'http://stats.nba.com/stats/shotchartdetail?Period=0&VsConference=&LeagueID=00&LastNGames=0&TeamID=0&PlayerPosition=&Position=&Location=&Outcome=&ContextMeasure=FGA&DateFrom=&StartPeriod=&DateTo=&OpponentTeamID=0&ContextFilter=&RangeType=&Season=' + seasonString + '&AheadBehind=&PlayerID=977&EndRange=&VsDivision=&PointDiff=&RookieYear=&GameSegment=&Month=0&ClutchTime=&StartRange=&EndPeriod=&SeasonType=Regular+Season&SeasonSegment=&GameID='\n",
    "    shot_chart_url_playoffs = 'http://stats.nba.com/stats/shotchartdetail?Period=0&VsConference=&LeagueID=00&LastNGames=0&TeamID=0&PlayerPosition=&Position=&Location=&Outcome=&ContextMeasure=FGA&DateFrom=&StartPeriod=&DateTo=&OpponentTeamID=0&ContextFilter=&RangeType=&Season=' + seasonString + '&AheadBehind=&PlayerID=977&EndRange=&VsDivision=&PointDiff=&RookieYear=&GameSegment=&Month=0&ClutchTime=&StartRange=&EndPeriod=&SeasonType=Playoffs&SeasonSegment=&GameID='\n",
    "    #print(shot_chart_url_regualr)\n",
    "    #print(shot_chart_url_playoffs)\n",
    "    #Please open the url and download json file"
   ]
  },
  {
   "cell_type": "markdown",
   "metadata": {
    "nbpresent": {
     "id": "d7e2809a-7cd9-4811-b0e1-887644954c78"
    }
   },
   "source": [
    "# Data Combination"
   ]
  },
  {
   "cell_type": "code",
   "execution_count": 1,
   "metadata": {
    "nbpresent": {
     "id": "4f465f09-7386-4f7e-8f02-ed379bf2bf0c"
    }
   },
   "outputs": [
    {
     "name": "stdout",
     "output_type": "stream",
     "text": [
      "30697\n"
     ]
    }
   ],
   "source": [
    "import json\n",
    "import pandas as pd\n",
    "seasons = []\n",
    "for season in range(1996,2016):\n",
    "    seasonString = './regular/'+str(season) + '.json'\n",
    "    json_data=open(seasonString).read()\n",
    "    data = json.loads(json_data)\n",
    "    # Split response into headers and content\n",
    "    headers = data['resultSets'][0]['headers']\n",
    "    shots = data['resultSets'][0]['rowSet']\n",
    "    # Create pandas dataframe to hold the data\n",
    "    shot_df = pd.DataFrame(shots, columns=headers)\n",
    "    # add extra column for season\n",
    "    shot_df['SEASON'] = str(season) + '-' + str(season+1)[2:]\n",
    "    # add extra column for playoff flag\n",
    "    shot_df['playoffs'] = 0\n",
    "    seasons.append(shot_df)\n",
    "    \n",
    "for season in range(1996,2016):\n",
    "    seasonString = './playoffs/'+str(season) + '.json'\n",
    "    json_data=open(seasonString).read()\n",
    "    data = json.loads(json_data)\n",
    "    # Split response into headers and content\n",
    "    headers = data['resultSets'][0]['headers']\n",
    "    shots = data['resultSets'][0]['rowSet']\n",
    "    # Create pandas dataframe to hold the data\n",
    "    shot_df = pd.DataFrame(shots, columns=headers)\n",
    "    # add extra column for season\n",
    "    shot_df['SEASON'] = str(season) + '-' + str(season+1)[2:]\n",
    "    # add extra column for playoff flag\n",
    "    shot_df['playoffs'] = 1\n",
    "    seasons.append(shot_df)\n",
    "    \n",
    "Original_Kobe_Shot_Data = pd.concat(seasons)\n",
    "print(len(Original_Kobe_Shot_Data['GRID_TYPE']))    \n",
    "Original_Kobe_Shot_Data.to_csv(\"Original_Kobe_Shot_Data.csv\")\n"
   ]
  },
  {
   "cell_type": "markdown",
   "metadata": {},
   "source": [
    "# Feature Transformation Method 3 KNN Based Feature Clustering"
   ]
  },
  {
   "cell_type": "code",
   "execution_count": 2,
   "metadata": {
    "collapsed": true,
    "nbpresent": {
     "id": "6b461dec-5148-40d6-bd1a-c32d57a9f056"
    }
   },
   "outputs": [],
   "source": [
    "import math\n",
    "import operator\n",
    "import copy\n",
    "\n",
    "def sort_and_partition_knn(data, name, k = -1):\n",
    "    stat = {}\n",
    "    for i, (d, x) in enumerate(zip(data[name], data['shot_made_flag'])):\n",
    "        if not (d in stat) :\n",
    "            stat[d] = [0, 0]\n",
    "        if x == 1:\n",
    "            stat[d][0] += 1\n",
    "            stat[d][1] += 1\n",
    "        else:\n",
    "            stat[d][1] += 1\n",
    "    shoot_min = 1\n",
    "    shoot_max = 0\n",
    "    for key, v in stat.items():\n",
    "        stat[key] = v[0] / v[1]\n",
    "        if stat[key] > shoot_max:\n",
    "            shoot_max = stat[key]\n",
    "        if stat[key] < shoot_min:\n",
    "            shoot_min = stat[key]\n",
    "    if k == -1:\n",
    "        n = 1\n",
    "        stat = sorted(stat.items(), key=operator.itemgetter(1))\n",
    "        index_map = {}\n",
    "        for i, (key, value) in enumerate(stat):\n",
    "            index_map[key] = math.floor(i / n)\n",
    "        length = math.ceil(len(stat) / n)\n",
    "        da = {}\n",
    "        zeros = [0 for i in range(length)]\n",
    "        for i in range(length):\n",
    "            da[name + str(i)] = []\n",
    "        for i, l in enumerate(data[name]):\n",
    "            for j in range(length):\n",
    "                if j == index_map[l]:\n",
    "                    da[name + str(j)].append(1)\n",
    "                else:\n",
    "                    da[name + str(j)].append(0)\n",
    "        return pd.DataFrame(data = da)\n",
    "    #print(stat)\n",
    "    #k-means\n",
    "    converge = False\n",
    "    while not converge:\n",
    "        c = np.random.uniform(shoot_min, shoot_max, [1, k])[0]\n",
    "        #print(c)\n",
    "        c_old = np.zeros(c.shape)\n",
    "        clusters = np.zeros(len(stat))\n",
    "        error = 0\n",
    "        for i in range(k):\n",
    "            error += abs(c_old[i] - c[i])\n",
    "        count = 0\n",
    "        while error != 0:\n",
    "            for i, (_, v) in enumerate(stat.items()):\n",
    "                distances = [abs(v - c[j]) for j in range(k)]\n",
    "                cluster = np.argmin(distances)\n",
    "                clusters[i] = cluster\n",
    "            c_old = copy.deepcopy(c)\n",
    "            for i in range(k):\n",
    "                points = [stat[key] for j, (key, _) in enumerate(stat.items()) if clusters[j] == i]\n",
    "                c[i] = np.mean(points)\n",
    "            error = 0\n",
    "            for i in range(k):\n",
    "                error += abs(c_old[i] - c[i])\n",
    "            count += 1\n",
    "            if count > 100:\n",
    "                break\n",
    "            if error == 0:\n",
    "                converge = True\n",
    "        #print('count', count)\n",
    "        #print('c', c)\n",
    "    #print('k-means result:', clusters)\n",
    "    #end k-means\n",
    "    for i, (key, _) in enumerate(stat.items()):\n",
    "        stat[key] = clusters[i]\n",
    "    \n",
    "    da = {}\n",
    "    zeros = [0 for i in range(k)]\n",
    "    for i in range(k):\n",
    "        da[name + str(i)] = []\n",
    "    for i, l in enumerate(data[name]):\n",
    "        for j in range(k):\n",
    "            if j == stat[l]:\n",
    "                da[name + str(j)].append(1)\n",
    "            else:\n",
    "                da[name + str(j)].append(0)\n",
    "    return pd.DataFrame(data = da)\n",
    "\n",
    "def sort_and_partition(data, name, n):\n",
    "    stat = {}\n",
    "    for i, (d, x) in enumerate(zip(data[name], data['shot_made_flag'])):\n",
    "        if i < 5000:\n",
    "            continue\n",
    "        if not (d in stat) :\n",
    "            stat[d] = [0, 0]\n",
    "        if x == 1:\n",
    "            stat[d][0] += 1\n",
    "            stat[d][1] += 1\n",
    "        else:\n",
    "            stat[d][1] += 1\n",
    "    for key, value in stat.items():\n",
    "        stat[key] = value[0] / value[1]\n",
    "    stat = sorted(stat.items(), key=operator.itemgetter(1))\n",
    "    index_map = {}\n",
    "    for i, (key, value) in enumerate(stat):\n",
    "        index_map[key] = math.floor(i / n)\n",
    "    length = math.ceil(len(stat) / n)\n",
    "    da = {}\n",
    "    for l in data[name]:\n",
    "        if not l in index_map:\n",
    "            length += 1\n",
    "            break\n",
    "    zeros = [0 for i in range(length)]\n",
    "    for i in range(length):\n",
    "        da[name + str(i)] = []\n",
    "    for i, l in enumerate(data[name]):\n",
    "        if l in index_map:\n",
    "            for j in range(length):\n",
    "                if j == index_map[l]:\n",
    "                    da[name + str(j)].append(1)\n",
    "                else:\n",
    "                    da[name + str(j)].append(0)\n",
    "        else:\n",
    "            for j in range(length - 1):\n",
    "                da[name + str(j)].append(0)\n",
    "            da[name + str(length - 1)].append(1)\n",
    "    return pd.DataFrame(data = da)\n"
   ]
  },
  {
   "cell_type": "markdown",
   "metadata": {
    "nbpresent": {
     "id": "13b1a61f-76aa-41a8-9e4c-faf2c2eb270b"
    }
   },
   "source": [
    "# Calculation of the accuracy of categorical features"
   ]
  },
  {
   "cell_type": "code",
   "execution_count": 3,
   "metadata": {
    "collapsed": true
   },
   "outputs": [],
   "source": [
    "%matplotlib inline \n",
    "import warnings\n",
    "warnings.filterwarnings('ignore')\n",
    "import numpy as np\n",
    "import pandas as pd\n",
    "import matplotlib.pyplot as plt\n",
    "import math\n",
    "from sklearn.model_selection import train_test_split\n",
    "\n",
    "def feature_accuracy(data, feature):\n",
    "    stat = {}\n",
    "    for i, (d, x) in enumerate(zip(data[feature], data['shot_made_flag'])):\n",
    "        if i < 5000:\n",
    "            continue\n",
    "        if not (d in stat) :\n",
    "            stat[d] = [0, 0]\n",
    "        if x == 1:\n",
    "            stat[d][0] += 1\n",
    "            stat[d][1] += 1\n",
    "        else:\n",
    "            stat[d][1] += 1\n",
    "    for k, v in stat.items():\n",
    "        stat[k] = v[0] / v[1]\n",
    "    dt = {feature + '_accuracy': []}\n",
    "    for l in data[feature]:\n",
    "        if l in stat:\n",
    "            dt[feature + '_accuracy'].append(stat[l])\n",
    "        else:\n",
    "            dt[feature + '_accuracy'].append(0.5)\n",
    "    return pd.DataFrame(data = dt)\n",
    "\n",
    "def normalize_feature(data, feature):\n",
    "    data[feature]=(data[feature]-data[feature].mean())/data[feature].std()\n",
    "    return 0\n",
    "\n",
    "def action_type_fransformation(data):\n",
    "    all_action_type_name = pd.unique(data['action_type'].astype('object'))\n",
    "    hit_rate = np.zeros((all_action_type_name.shape[0],1),dtype=np.float32)\n",
    "    hit_number = np.zeros((all_action_type_name.shape[0],1),dtype=np.float32)\n",
    "    i = 0\n",
    "    known_data = data.tail(25697)\n",
    "    list1=[]\n",
    "    list2=[]\n",
    "    dict_action_accuracy = pd.DataFrame(index=range(0,57))\n",
    "    for type in all_action_type_name:      \n",
    "        list1.append(type)\n",
    "        sub_type = known_data.loc[known_data['action_type'] == type]\n",
    "        nb_success_hit = sub_type.loc[sub_type['shot_made_flag'] == 1]\n",
    "        nb_success_hit = nb_success_hit.shape[0]\n",
    "        nb_fail_hit = sub_type.loc[sub_type['shot_made_flag'] == 0]\n",
    "        nb_fail_hit = nb_fail_hit.shape[0]\n",
    "        hit_number = (nb_success_hit+nb_fail_hit)\n",
    "        if hit_number <= 100:\n",
    "            new_action_type = 'half'\n",
    "            if 'Finger Roll Layup' in type:\n",
    "                new_action_type = 'forthfive'\n",
    "            if 'Driving Finger Roll' in type:\n",
    "                new_action_type = 'forthfive'\n",
    "            if 'Runinig Hook Shot' in type:\n",
    "                new_action_type = 'forthfive'\n",
    "            if 'Running Jump Shot' in type:\n",
    "                new_action_type = 'threeforth' \n",
    "            if 'Alley Oop Layup' in type:\n",
    "                new_action_type = 'threeforth'                \n",
    "            if 'Pullup Jump' in type:\n",
    "                new_action_type = 'threeforth'                \n",
    "            if 'Turnaround Fadeaway' in type:\n",
    "                new_action_type = 'threeforth'                \n",
    "            if 'Turnaround Jump Shot' in type:\n",
    "                new_action_type = 'threeforth'                \n",
    "            if 'Fadeaway Jump Shot' in type:\n",
    "                new_action_type = 'threeforth'  \n",
    "            if 'Jump Hook Shot' in type:\n",
    "                new_action_type = 'threeforth'\n",
    "            if 'Running Pull-Up' in type:\n",
    "                new_action_type = 'threeforth'\n",
    "            if 'Reverse Layup' in type:\n",
    "                new_action_type = 'threeforth'\n",
    "            if 'Runing Layup' in type:\n",
    "                new_action_type = 'threeforth'\n",
    "            if 'Bank' in type:\n",
    "                new_action_type = 'threeforth'\n",
    "            if 'Dunk' in type:\n",
    "                new_action_type = 'One'\n",
    "            if 'Turnaround Finger Roll' in type:\n",
    "                new_action_type = 'One'\n",
    "        else:\n",
    "            new_action_type = type\n",
    "        list2.append(new_action_type)\n",
    "    dict_action_accuracy['original_type_name']=pd.DataFrame(list1)\n",
    "    dict_action_accuracy['new_action_type']=pd.DataFrame(list2)\n",
    "    list = []\n",
    "    for row in data['action_type']: \n",
    "        A = dict_action_accuracy.loc[dict_action_accuracy['original_type_name'] == row]\n",
    "        B = A['new_action_type']\n",
    "        B = B.as_matrix()\n",
    "        list.append(B)\n",
    "    return pd.DataFrame(list)\n",
    "\n",
    "def action_type_fransformation2(data):\n",
    "    all_action_type_name = pd.unique(data['action_type'].astype('object'))\n",
    "    hit_rate = np.zeros((all_action_type_name.shape[0],1),dtype=np.float32)\n",
    "    hit_number = np.zeros((all_action_type_name.shape[0],1),dtype=np.float32)\n",
    "    i = 0\n",
    "    known_data = data.tail(25697)\n",
    "    list1=[]\n",
    "    list2=[]\n",
    "    dict_action_accuracy = pd.DataFrame(index=range(0,57))\n",
    "    for type in all_action_type_name:      \n",
    "        list1.append(type)\n",
    "        sub_type = known_data.loc[known_data['action_type'] == type]\n",
    "        nb_success_hit = sub_type.loc[sub_type['shot_made_flag'] == 1]\n",
    "        nb_success_hit = nb_success_hit.shape[0]\n",
    "        nb_fail_hit = sub_type.loc[sub_type['shot_made_flag'] == 0]\n",
    "        nb_fail_hit = nb_fail_hit.shape[0]\n",
    "        hit_number = (nb_success_hit+nb_fail_hit)\n",
    "        if hit_number <= 100:\n",
    "            new_action_type = 'other'\n",
    "        else:\n",
    "            new_action_type = type\n",
    "        list2.append(new_action_type)\n",
    "    dict_action_accuracy['original_type_name']=pd.DataFrame(list1)\n",
    "    dict_action_accuracy['new_action_type']=pd.DataFrame(list2)\n",
    "    list = []\n",
    "    for row in data['action_type']: \n",
    "        A = dict_action_accuracy.loc[dict_action_accuracy['original_type_name'] == row]\n",
    "        B = A['new_action_type']\n",
    "        B = B.as_matrix()\n",
    "        list.append(B)\n",
    "    return pd.DataFrame(list)\n",
    "\n",
    "def categorical2numeric(fulldata, feature_name):\n",
    "    all_categorical_name = pd.unique(data[feature_name])\n",
    "    number_of_category = all_categorical_name.shape[0]\n",
    "    #print(number_of_category)\n",
    "    known_data = fulldata.tail(25697)\n",
    "    list_original=[]\n",
    "    list_new=[]\n",
    "    dict_action_accuracy = pd.DataFrame(index=range(0,number_of_category))\n",
    "    i = 0\n",
    "    for category in all_categorical_name:      \n",
    "        list_original.append(category)\n",
    "        list_new.append(i)\n",
    "        i = i+1\n",
    "    dict_action_accuracy['original_category']=pd.DataFrame(list_original)\n",
    "    dict_action_accuracy['new_category']=pd.DataFrame(list_new)\n",
    "    list = []\n",
    "    for row in fulldata[feature_name]:\n",
    "        A = dict_action_accuracy.loc[dict_action_accuracy['original_category'] == row]\n",
    "        B = A['new_category']\n",
    "        B = B.as_matrix()\n",
    "        list.append(B)\n",
    "    return pd.DataFrame(list)\n",
    "\n",
    "def drop_outlier(feature_name,X_train,X_test,y_train):\n",
    "    Training_data = pd.concat([X_train,y_train],axis=1)\n",
    "    Testing_data = pd.concat([X_test,y_test],axis=1)\n",
    "    known_data[feature_name] = known_data[feature_name].astype('object')\n",
    "    data_features = data[feature_name];\n",
    "    data_features = pd.unique(data_features)\n",
    "    #print(data_features)\n",
    "    hit_rate = np.zeros((data_features.shape[0],1),dtype=np.float32)\n",
    "    hit_number = np.zeros((data_features.shape[0],1),dtype=np.float32)\n",
    "    i = 0\n",
    "    for type in data_features:\n",
    "        sub_type = known_data.loc[known_data[feature_name] == type]\n",
    "        nb_success_hit = sub_type.loc[sub_type['shot_made_flag'] == 1]\n",
    "        nb_success_hit = nb_success_hit.shape[0]\n",
    "        nb_fail_hit = sub_type.loc[sub_type['shot_made_flag'] == 0]\n",
    "        nb_fail_hit = nb_fail_hit.shape[0]\n",
    "        #hit_rate[i] = nb_success_hit/(nb_success_hit+nb_fail_hit)\n",
    "        hit_number[i] = (nb_success_hit+nb_fail_hit)\n",
    "        if  hit_number[i] <= 20:\n",
    "            Training_data = Training_data.loc[Training_data[feature_name] != type]\n",
    "        i = i+1\n",
    "    y_train = Training_data['shot_made_flag']\n",
    "    X_train = Training_data.drop(['shot_made_flag','action_type'], axis=1)\n",
    "    X_test = X_test.drop('action_type', axis=1)"
   ]
  },
  {
   "cell_type": "markdown",
   "metadata": {},
   "source": [
    "# Load Data"
   ]
  },
  {
   "cell_type": "code",
   "execution_count": 4,
   "metadata": {
    "nbpresent": {
     "id": "6261e183-485d-43f5-aa1d-bf05805453a5"
    }
   },
   "outputs": [
    {
     "name": "stdout",
     "output_type": "stream",
     "text": [
      "(30697, 43)\n"
     ]
    }
   ],
   "source": [
    "%matplotlib inline \n",
    "import warnings\n",
    "warnings.filterwarnings('ignore')\n",
    "import numpy as np\n",
    "import pandas as pd\n",
    "import matplotlib.pyplot as plt\n",
    "import math\n",
    "from sklearn.model_selection import train_test_split\n",
    "\n",
    "allData = pd.read_csv('data.csv', encoding='utf-8-sig')\n",
    "completeData = pd.read_csv('Original_Kobe_Shot_Data.csv', encoding='utf-8-sig')\n",
    "referenceData = completeData[[u'GAME_ID',u'GAME_EVENT_ID',u'SHOT_MADE_FLAG']]\n",
    "referenceData['GAME_ID'] = referenceData['GAME_ID'].astype('int')\n",
    "referenceData['GAME_EVENT_ID'] = referenceData['GAME_EVENT_ID'].astype('int')\n",
    "referenceData['SHOT_MADE_FLAG'] = referenceData['SHOT_MADE_FLAG'].astype('float')\n",
    "unknown_data = allData[allData['shot_made_flag'].isnull()]#.reset_index()\n",
    "unknown_data2 = unknown_data.copy()\n",
    "known_data = allData[allData['shot_made_flag'].notnull()]#.reset_index()\n",
    "\n",
    "for index,unknonw_i in unknown_data.iterrows():\n",
    "    game_id = unknonw_i['game_id']\n",
    "    event_id = unknonw_i['game_event_id']\n",
    "    true_i = referenceData.loc[(referenceData['GAME_ID']==(game_id)) & (referenceData['GAME_EVENT_ID'] == event_id)]    \n",
    "    true_flag = true_i['SHOT_MADE_FLAG'].values\n",
    "    unknown_data.set_value(index, 'shot_made_flag', true_flag)\n",
    "final_complete_data = unknown_data.append(known_data)\n",
    "data = final_complete_data\n",
    "\n",
    "## Home or visit\n",
    "final_complete_data['home_field'] = final_complete_data['matchup'].str.contains('vs').astype('int')\n",
    "\n",
    "## Year/Month/day\n",
    "final_complete_data['game_date2'] = final_complete_data['game_date']\n",
    "final_complete_data['game_date2'] = pd.to_datetime(final_complete_data['game_date2'])\n",
    "final_complete_data['game_year'] = final_complete_data['game_date2'].dt.year\n",
    "final_complete_data['game_month'] = final_complete_data['game_date2'].dt.month\n",
    "final_complete_data['game_day'] = final_complete_data['game_date2'].dt.dayofweek\n",
    "\n",
    "## Timing feature\n",
    "final_complete_data['seconds_from_period_end'] = 60 * final_complete_data['minutes_remaining'] + final_complete_data['seconds_remaining']\n",
    "final_complete_data['last_5_sec_in_period'] = final_complete_data['seconds_from_period_end'] < 5\n",
    "final_complete_data['seconds_from_period_start'] = 60*(11-final_complete_data['minutes_remaining'])+(60-final_complete_data['seconds_remaining'])\n",
    "final_complete_data['seconds_from_game_start'] = (final_complete_data['period'] <= 4).astype(int)*(final_complete_data['period']-1)*12*60 + (final_complete_data['period'] > 4).astype(int)*((final_complete_data['period']-4)*5*60 + 3*12*60) + final_complete_data['seconds_from_period_start']\n",
    "\n",
    "# Feature angle and layup\n",
    "DEGREE_UNIT = 0.001\n",
    "angles = {'angle' : [], 'layup': []}\n",
    "for x, y in zip(data['loc_x'], data['loc_y']):\n",
    "    if x == 0 and y == 0:\n",
    "        angles['angle'].append(0.0)\n",
    "        angles['layup'].append(1)\n",
    "    else:\n",
    "        angles['angle'].append(math.floor(abs(np.arctan2(y, x) * 180 / np.pi) / DEGREE_UNIT))\n",
    "        angles['layup'].append(0)\n",
    "angles = pd.DataFrame(data = angles)\n",
    "final_complete_data[\"angle\"] = angles[\"angle\"]\n",
    "final_complete_data[\"layup\"] = angles[\"layup\"]\n",
    "\n",
    "## Accuracy feature\n",
    "season_new = feature_accuracy(data, \"seconds_remaining\")\n",
    "final_complete_data[\"seconds_remaining_accuracy\"] = season_new[\"seconds_remaining_accuracy\"]\n",
    "\n",
    "season_new = feature_accuracy(data, \"shot_distance\")\n",
    "final_complete_data[\"shot_distance_accuracy\"] = season_new[\"shot_distance_accuracy\"]\n",
    "\n",
    "season_new = feature_accuracy(data, \"minutes_remaining\")\n",
    "final_complete_data[\"minutes_remaining_accuracy\"] = season_new[\"minutes_remaining_accuracy\"]\n",
    "\n",
    "season_new = feature_accuracy(data, \"period\")\n",
    "final_complete_data[\"period_accuracy\"] = season_new[\"period_accuracy\"]\n",
    "\n",
    "season_new = feature_accuracy(data, \"shot_type\")\n",
    "final_complete_data[\"shot_type_accuracy\"] = season_new[\"shot_type_accuracy\"]\n",
    "\n",
    "season_new = feature_accuracy(data, \"action_type\")\n",
    "final_complete_data[\"action_type_accuracy\"] = season_new[\"action_type_accuracy\"]\n",
    "\n",
    "season_new = feature_accuracy(data, \"season\")\n",
    "final_complete_data[\"season_accuracy\"] = season_new[\"season_accuracy\"]\n",
    "\n",
    "#Action_type_transform\n",
    "#action_type_transform = action_type_fransformation(final_complete_data)\n",
    "#final_complete_data['action_type_transform'] = action_type_transform\n",
    "\n",
    "#Normalization\n",
    "# normalize_feature(final_complete_data, 'loc_x')\n",
    "# normalize_feature(final_complete_data, 'loc_y') \n",
    "# normalize_feature(final_complete_data, 'lat') \n",
    "# normalize_feature(final_complete_data, 'lon') \n",
    "# normalize_feature(final_complete_data, 'period')  \n",
    "# normalize_feature(final_complete_data, 'shot_distance') \n",
    "\n",
    "#Save the data\n",
    "unknown_data = final_complete_data.head(5000)\n",
    "known_data = final_complete_data.tail(30697-5000)\n",
    "final_complete_data.to_csv('final_complete_data.csv')\n",
    "print(final_complete_data.shape) "
   ]
  },
  {
   "cell_type": "markdown",
   "metadata": {},
   "source": [
    "# Optional Heat Map Feature"
   ]
  },
  {
   "cell_type": "code",
   "execution_count": 5,
   "metadata": {},
   "outputs": [
    {
     "name": "stdout",
     "output_type": "stream",
     "text": [
      "248\n",
      "-250\n",
      "62.25\n",
      "(30697, 44)\n"
     ]
    }
   ],
   "source": [
    "import math\n",
    "import numpy as np\n",
    "from sklearn.cluster import KMeans\n",
    "from mpl_toolkits.mplot3d import Axes3D\n",
    "import matplotlib.pyplot as plt\n",
    "import numpy as np\n",
    "import seaborn as sns\n",
    "%matplotlib inline\n",
    "\n",
    "partition = 8\n",
    "min_x, max_x =  min(final_complete_data['loc_x']), max(final_complete_data['loc_x'])\n",
    "min_y, max_y =  min(final_complete_data['loc_y']), max(final_complete_data['loc_y'])\n",
    "\n",
    "width_x = (max_x - min_x) / partition\n",
    "width_y = (max_y - min_y) / partition\n",
    "grid = []\n",
    "\n",
    "for i in range(partition):\n",
    "    start_x = min_x + (i) * width_x\n",
    "    end_x = min_x + (i + 1) * width_x\n",
    "    for j in range(partition):   \n",
    "        start_y = min_y + (j) * width_y\n",
    "        end_y = min_y + (j + 1) * width_y\n",
    "        grid.append([start_x, end_x, start_y, end_y])\n",
    "# print(len(grid))\n",
    "\n",
    "        \n",
    "grid_prob = {}\n",
    "for current_row in zip(known_data['loc_x'], known_data['loc_y'], known_data['shot_made_flag']):\n",
    "    x, y, made = current_row\n",
    "    int_made = int(made)\n",
    "    for g in grid:\n",
    "        s_x, e_x, s_y, e_y = g\n",
    "        if s_x <= x and x <= e_x and s_y <= y and y <= e_y:\n",
    "            grid_prob[((s_x + e_x)//2, (s_y + e_y)//2, int_made)] = grid_prob.get(((s_x + e_x)//2, (s_y + e_y)//2, int_made), 0) + 1\n",
    "# print(grid_prob)\n",
    "\n",
    "overall_prob = {}\n",
    "for k in grid_prob:\n",
    "    mid_x, mid_y, made = k\n",
    "    for z in grid_prob:\n",
    "        if z != k:\n",
    "            inner_mid_x, inner_mid_y, inner_made = z\n",
    "            if mid_x == inner_mid_x and mid_y == inner_mid_y:\n",
    "#                 print(grid_prob[(mid_x, mid_y, made)], grid_prob[(mid_x, mid_y, inner_made)])\n",
    "                if made == 1 and inner_made == 0:\n",
    "                    overall_prob[(mid_x, mid_y)] = grid_prob[(mid_x, mid_y, made)] / (grid_prob[(mid_x, mid_y, made)] + grid_prob[(mid_x, mid_y, inner_made)])\n",
    "                else:\n",
    "                    overall_prob[(mid_x, mid_y)] = grid_prob[(mid_x, mid_y, inner_made)] / (grid_prob[(mid_x, mid_y, made)] + grid_prob[(mid_x, mid_y, inner_made)])\n",
    "\n",
    "overall_x, overall_y, overall_val = [], [], []\n",
    "\n",
    "heat_grid = np.zeros(shape=(partition+10,partition+10))\n",
    "#print(heat_grid)\n",
    "for k, v in overall_prob.items():\n",
    "    x, y = k\n",
    "    grid_x = int((x - (min_x)) / width_x)\n",
    "    grid_y = int((y - (min_y)) / width_y)\n",
    "    overall_x.append(grid_x)\n",
    "    overall_y.append(grid_y)\n",
    "    overall_val.append(v)\n",
    "\n",
    "for x, y, v in zip(overall_x, overall_y, overall_val):\n",
    "    #print(x, y, v)\n",
    "    heat_grid[x][y] = v\n",
    "    #print('Now heat grid', heat_grid[x][y])\n",
    "\n",
    "# a = np.random.random((16, 16))\n",
    "# print(type(a))\n",
    "# print(heat_grid)\n",
    "# ax = sns.heatmap(heat_grid)\n",
    "# print(overall_x)\n",
    "# fig = plt.figure()\n",
    "# ax = fig.add_subplot(111, projection='3d')\n",
    "# ax.bar(overall_x, overall_y, overall_val)\n",
    "# fig = plt.figure(figsize=(16, 8))\n",
    "# ax1 = fig.add_subplot(111, projection='3d')  \n",
    "# ax1.bar3d(overall_x, overall_y, overall_val, 1, 1, 0.5, shade=True)\n",
    "# plt.show()\n",
    "\n",
    "print(max(known_data['loc_x']))\n",
    "print(min_x)\n",
    "print(width_x)\n",
    "acc = []\n",
    "for x, y in zip(known_data['loc_x'], known_data['loc_y']):\n",
    "    grid_x = int((x - (min_x)) / width_x)\n",
    "    grid_y = int((y - (min_y)) / width_y)\n",
    "    prob = heat_grid[grid_x][grid_y]\n",
    "    acc.append(prob)\n",
    "df = pd.DataFrame({'xy_acc':acc})\n",
    "#known_data.insert(0, 'acc', acc)\n",
    "known_data['acc'] = acc\n",
    "#print(known_data)\n",
    "\n",
    "acc = []\n",
    "for x, y in zip(unknown_data['loc_x'], unknown_data['loc_y']):\n",
    "    grid_x = int((x - (min_x)) / width_x)\n",
    "    grid_y = int((y - (min_y)) / width_y)\n",
    "    prob = heat_grid[grid_x][grid_y]\n",
    "    acc.append(prob)\n",
    "df = pd.DataFrame({'xy_acc':acc})\n",
    "#unknown_data.insert(0, 'acc', acc)\n",
    "unknown_data['acc'] = acc\n",
    "final_complete_data = unknown_data.append(known_data)\n",
    "print(final_complete_data.shape)"
   ]
  },
  {
   "cell_type": "markdown",
   "metadata": {
    "nbpresent": {
     "id": "1592741e-a8aa-411a-84be-37ffec33fce9"
    }
   },
   "source": [
    "# Showing features and corresponding accuracy"
   ]
  },
  {
   "cell_type": "code",
   "execution_count": 6,
   "metadata": {},
   "outputs": [
    {
     "data": {
      "image/png": "[encoded data removed]",
      "text/plain": [
       "<matplotlib.figure.Figure at 0x7ffa9d4c5e80>"
      ]
     },
     "metadata": {},
     "output_type": "display_data"
    }
   ],
   "source": [
    "import operator\n",
    "feature_name='shot_zone_area'\n",
    "data = known_data\n",
    "data[feature_name] = data[feature_name].astype('object')\n",
    "data_features = data[feature_name];\n",
    "data_features = pd.unique(data_features)\n",
    "hit_rate = np.zeros((data_features.shape[0],1),dtype=np.float32)\n",
    "hit_number = np.zeros((data_features.shape[0],1),dtype=np.float32)\n",
    "i = 0\n",
    "dic = {}\n",
    "for t in data_features:\n",
    "    sub_type = data.loc[data[feature_name] == t]\n",
    "    nb_success_hit = sub_type.loc[sub_type['shot_made_flag'] == 1]\n",
    "    nb_success_hit = nb_success_hit.shape[0]\n",
    "    nb_fail_hit = sub_type.loc[sub_type['shot_made_flag'] == 0]\n",
    "    nb_fail_hit = nb_fail_hit.shape[0]\n",
    "    hit_number[i] = (nb_success_hit+nb_fail_hit)\n",
    "    hit_rate[i] = nb_success_hit/(nb_success_hit+nb_fail_hit)\n",
    "    # for the sorting to work    \n",
    "    dic[t] = nb_success_hit/(nb_success_hit+nb_fail_hit)\n",
    "    i += 1\n",
    "\n",
    "# sort by dic key\n",
    "sort_res = sorted(dic.items(), key=operator.itemgetter(1), reverse=True)\n",
    "\n",
    "sort_f, sort_v = [], []\n",
    "for f, v in sort_res:\n",
    "    sort_f.append(f)\n",
    "    sort_v.append(v)\n",
    "    \n",
    "freq_series = pd.Series.from_array(sort_v)\n",
    "plt.figure(figsize=(10, 4))\n",
    "ax = freq_series.plot(kind='bar')\n",
    "ax.set_title(feature_name, fontsize=15)\n",
    "ax.set_xlabel('Features', fontsize=15)\n",
    "ax.set_ylabel('Win Prob', fontsize=15)\n",
    "plt.xticks(rotation=90)\n",
    "ax.set_xticklabels(sort_f)\n",
    "\n",
    "rects = ax.patches\n",
    "\n",
    "# Make some labels.\n",
    "labels = [\"{0:.4f}\".format(i) for i in sort_v]\n",
    "\n",
    "for rect, label in zip(rects, labels):\n",
    "    height = rect.get_height()\n",
    "    ax.text(rect.get_x() + rect.get_width() / 2, height, label, ha='center', va='bottom')\n"
   ]
  },
  {
   "cell_type": "markdown",
   "metadata": {
    "nbpresent": {
     "id": "2d295cf6-13a4-45b9-bfc3-8e0baf902fca"
    }
   },
   "source": [
    "# Data pre-processing and features selections"
   ]
  },
  {
   "cell_type": "code",
   "execution_count": 16,
   "metadata": {},
   "outputs": [
    {
     "name": "stdout",
     "output_type": "stream",
     "text": [
      "(25697, 148)\n",
      "(5000, 148)\n"
     ]
    }
   ],
   "source": [
    "from sklearn import preprocessing\n",
    "\n",
    "## Decide the data set\n",
    "data = final_complete_data.copy()\n",
    "\n",
    "## Features Transformation\n",
    "#Time domain:\n",
    "seconds = sort_and_partition(data, 'seconds_remaining', 20)\n",
    "\n",
    "#Spatial domain:\n",
    "distance = sort_and_partition(data, 'shot_distance', 10)\n",
    "\n",
    "#Final Predictors\n",
    "X = data[[u'loc_x',u'loc_y',\n",
    "          u'shot_distance',\n",
    "          u'season_accuracy',    \n",
    "          #u'shot_distance_accuracy',\n",
    "          u'last_5_sec_in_period',\n",
    "          u'seconds_from_game_start',\n",
    "          u'home_field',\n",
    "          # uncommented 'game_date' for time series analysis\n",
    "          u'game_date', \n",
    "         ]]\n",
    "X = X.join(distance)\n",
    "X = X.join(seconds)\n",
    "categorial_variables = [\n",
    "    'action_type', 'combined_shot_type', 'season', \n",
    "    'shot_zone_area', 'shot_zone_basic',             \n",
    "    'opponent']\n",
    "for cate in categorial_variables:\n",
    "    dummies = pd.get_dummies(data[cate])\n",
    "    dummies = dummies.add_prefix(\"{}_\".format(cate))\n",
    "    X = X.join(dummies)\n",
    "X_test = X.head(5000)\n",
    "X_train = X.tail(25697)\n",
    "\n",
    "#Dependent\n",
    "y = data[u'shot_made_flag']\n",
    "y_test = y.head(5000)\n",
    "y_train = y.tail(25697)\n",
    "\n",
    "#Save Transformed Data\n",
    "Known_Data_Transformed = pd.concat([X_train,y_train],axis=1)\n",
    "Known_Data_Transformed = Known_Data_Transformed.reindex()\n",
    "Unknown_Data_Transformed = pd.concat([X_test,y_test],axis=1)\n",
    "Unknown_Data_Transformed = Unknown_Data_Transformed.reindex()\n",
    "Final_Data_Transformed = Unknown_Data_Transformed.append(Known_Data_Transformed)\n",
    "Final_Data_Transformed.to_csv('Final_Data_Transformed.csv')\n",
    "\n",
    "#Dataframe to matrix\n",
    "X_test = X_test.as_matrix()\n",
    "X_train = X_train.as_matrix()\n",
    "y_test = y_test.as_matrix()\n",
    "y_train = y_train.as_matrix()\n",
    "\n",
    "#Print Shapoe\n",
    "print(X_train.shape)\n",
    "print(X_test.shape)"
   ]
  },
  {
   "cell_type": "markdown",
   "metadata": {
    "collapsed": true,
    "nbpresent": {
     "id": "3ac6ba3b-9200-4b3c-b493-f875e96cf6ca"
    }
   },
   "source": [
    "# Logistic Regression"
   ]
  },
  {
   "cell_type": "code",
   "execution_count": 8,
   "metadata": {
    "nbpresent": {
     "id": "2b149409-74b7-4384-8960-a3c1065756e7"
    }
   },
   "outputs": [
    {
     "name": "stdout",
     "output_type": "stream",
     "text": [
      "Accuracy: 0.680800\n",
      "Log loss test: 0.609193\n",
      "Roc: 0.697027\n"
     ]
    }
   ],
   "source": [
    "import pandas as pd\n",
    "import numpy as np\n",
    "from sklearn.linear_model import LogisticRegression\n",
    "from sklearn.metrics import (accuracy_score,roc_auc_score,log_loss)\n",
    "\n",
    "LR = LogisticRegression(penalty='l2', dual=False, tol=0.0001, C = 0.3, fit_intercept=True, \\\n",
    "                        intercept_scaling=1, class_weight=None, random_state=None, solver='liblinear', \\\n",
    "                        max_iter=10000, multi_class='ovr', verbose=0, warm_start=False)\n",
    "LR.fit(X_train,y_train)\n",
    "y_predict_proba_LR = LR.predict_proba(X_test)\n",
    "\n",
    "score_test = log_loss(y_test, y_predict_proba_LR[:,1])\n",
    "y_predict_proba_LR_train = LR.predict_proba(X_train)\n",
    "score_training= log_loss(y_train, y_predict_proba_LR_train[:,1])\n",
    "accuracy = accuracy_score(y_test, LR.predict(X_test))\n",
    "print('Accuracy: %f' %accuracy)\n",
    "print('Log loss test: %f' %score_test)\n",
    "print('Roc: %f' %roc_auc_score(y_test, y_predict_proba_LR[:,1]))"
   ]
  },
  {
   "cell_type": "markdown",
   "metadata": {
    "nbpresent": {
     "id": "586decd9-0bf4-421a-863e-59a59aac123a"
    }
   },
   "source": [
    "## Decision Tree"
   ]
  },
  {
   "cell_type": "code",
   "execution_count": 9,
   "metadata": {
    "nbpresent": {
     "id": "7a4f144b-0728-474c-8ae9-47bb007973e7"
    }
   },
   "outputs": [
    {
     "name": "stdout",
     "output_type": "stream",
     "text": [
      "Log loss Gini: 0.610539\n",
      "Accuracy: 0.678400\n",
      "RoC score: 0.695851\n",
      "Log loss Entropy: 0.630356\n",
      "Accuracy: 0.679800\n",
      "RoC score: 0.691683\n"
     ]
    }
   ],
   "source": [
    "from sklearn.model_selection import cross_val_score\n",
    "from sklearn import tree\n",
    "from sklearn.externals.six import StringIO\n",
    "from sklearn.tree import export_graphviz\n",
    "\n",
    "for mdepth in [4]:\n",
    "    clf_gini = tree.DecisionTreeClassifier(criterion = 'gini', max_depth = mdepth)\n",
    "    clf_gini.fit(X_train, y_train)\n",
    "    y_predict_proba_clf_gini = clf_gini.predict_proba(X_test)\n",
    "    score = log_loss(y_test, y_predict_proba_clf_gini[:,1]) \n",
    "    print('Log loss Gini: %f' %score)\n",
    "    print('Accuracy: %f' %accuracy_score(y_test, clf_gini.predict(X_test)))\n",
    "    print('RoC score: %f' %roc_auc_score(y_test, y_predict_proba_clf_gini[:,1]))\n",
    "\n",
    "    clf_entropy = tree.DecisionTreeClassifier(criterion = 'entropy', max_depth = mdepth)\n",
    "    clf_entropy.fit(X_train, y_train)\n",
    "    y_predict_proba_clf_entropy = clf_entropy.predict_proba(X_test)\n",
    "    score = log_loss(y_test, y_predict_proba_clf_entropy[:,1]) \n",
    "    print('Log loss Entropy: %f' %score)\n",
    "    print('Accuracy: %f' %accuracy_score(y_test, clf_entropy.predict(X_test)))\n",
    "    print('RoC score: %f' %roc_auc_score(y_test, y_predict_proba_clf_entropy[:,1]))\n"
   ]
  },
  {
   "cell_type": "markdown",
   "metadata": {
    "nbpresent": {
     "id": "cb1bec44-1871-454b-9b54-304b62ba4a5f"
    }
   },
   "source": [
    "# Random Forest"
   ]
  },
  {
   "cell_type": "code",
   "execution_count": 10,
   "metadata": {
    "nbpresent": {
     "id": "6f07ce89-2085-46da-b4dd-45e81bdbd929"
    },
    "scrolled": true
   },
   "outputs": [
    {
     "name": "stdout",
     "output_type": "stream",
     "text": [
      "nEstimator: 850\n",
      "Logloss: 0.610914\n",
      "Accuracy: 0.671200\n",
      "ROC: 0.700825\n"
     ]
    }
   ],
   "source": [
    "from sklearn.model_selection import (train_test_split,GridSearchCV)\n",
    "from sklearn.metrics import (accuracy_score,roc_auc_score,log_loss)\n",
    "from sklearn.ensemble import (RandomForestClassifier,GradientBoostingClassifier,AdaBoostClassifier)\n",
    "\n",
    "for n in [850]:\n",
    "    RFC_Best = RandomForestClassifier(n_estimators=n, criterion='entropy',n_jobs=-1)\n",
    "    RFC_Best.fit(X_train,y_train)\n",
    "    y_predict_proba_RFC = RFC_Best.predict_proba(X_test)\n",
    "    accuracy_score_RFC = accuracy_score(y_test, RFC_Best.predict(X_test))\n",
    "    roc_auc_score_RFC = roc_auc_score(y_test, y_predict_proba_RFC[:,1])\n",
    "    score = log_loss(y_test, y_predict_proba_RFC[:,1])\n",
    "    print('nEstimator: %d' %n)\n",
    "    print('Logloss: %f' %score)\n",
    "    print('Accuracy: %f' %accuracy_score(y_test, RFC_Best.predict(X_test)))\n",
    "    print('ROC: %f' %roc_auc_score_RFC)"
   ]
  },
  {
   "cell_type": "markdown",
   "metadata": {},
   "source": [
    "# AdaBoost"
   ]
  },
  {
   "cell_type": "code",
   "execution_count": 11,
   "metadata": {},
   "outputs": [
    {
     "name": "stdout",
     "output_type": "stream",
     "text": [
      "nEstimator: 100\n",
      "learning_rate: 0.003500\n",
      "Logloss: 0.642629\n",
      "Accuracy: 0.658800\n",
      "ROC: 0.649930\n"
     ]
    }
   ],
   "source": [
    "from sklearn.model_selection import (train_test_split,GridSearchCV)\n",
    "from sklearn.metrics import (accuracy_score,roc_auc_score,log_loss)\n",
    "from sklearn.ensemble import (RandomForestClassifier,GradientBoostingClassifier,AdaBoostClassifier)\n",
    "\n",
    "for n in [100]:\n",
    "    for lr in [0.0035]:\n",
    "        AdaBC_Best = AdaBoostClassifier(n_estimators=n, learning_rate=lr)\n",
    "        AdaBC_Best.fit(X_train,y_train)\n",
    "        y_predict_proba_AdaBC = AdaBC_Best.predict_proba(X_test)\n",
    "        accuracy_score_AdaBC = accuracy_score(y_test, AdaBC_Best.predict(X_test))\n",
    "        roc_auc_score_AdaBC = roc_auc_score(y_test, y_predict_proba_AdaBC[:,1])\n",
    "        score = log_loss(y_test, y_predict_proba_AdaBC[:,1])\n",
    "        print('nEstimator: %d' %n)\n",
    "        print('learning_rate: %f' %lr)\n",
    "        print('Logloss: %f' %score)\n",
    "        print('Accuracy: %f' %accuracy_score(y_test, AdaBC_Best.predict(X_test)))\n",
    "        print('ROC: %f' %roc_auc_score_AdaBC)"
   ]
  },
  {
   "cell_type": "markdown",
   "metadata": {},
   "source": [
    "# GBDT"
   ]
  },
  {
   "cell_type": "code",
   "execution_count": 12,
   "metadata": {},
   "outputs": [
    {
     "name": "stdout",
     "output_type": "stream",
     "text": [
      "Logloss: 0.602738\n",
      "Accuracy: 0.680000\n",
      "ROC: 0.710514\n"
     ]
    }
   ],
   "source": [
    "from sklearn.model_selection import (train_test_split,GridSearchCV)\n",
    "from sklearn.metrics import (accuracy_score,roc_auc_score,log_loss)\n",
    "from sklearn.ensemble import (RandomForestClassifier,GradientBoostingClassifier,AdaBoostClassifier)\n",
    "from sklearn.metrics import make_scorer\n",
    "\n",
    "for n in [950]:\n",
    "    for lr in [0.0038]:\n",
    "        for d in [7]:\n",
    "            GBDT_Best = GradientBoostingClassifier(n_estimators=n, learning_rate=lr, max_depth = d)\n",
    "            GBDT_Best.fit(X_train,y_train)\n",
    "            y_predict_proba_GBDT = GBDT_Best.predict_proba(X_test)\n",
    "            accuracy_score_GBDT = accuracy_score(y_test, GBDT_Best.predict(X_test))\n",
    "            roc_auc_score_GBDT = roc_auc_score(y_test, y_predict_proba_GBDT[:,1])\n",
    "            score = log_loss(y_test, y_predict_proba_GBDT[:,1])\n",
    "            print('Logloss: %f' %score)\n",
    "            print('Accuracy: %f' %accuracy_score(y_test, GBDT_Best.predict(X_test)))\n",
    "            print('ROC: %f' %roc_auc_score_GBDT)"
   ]
  },
  {
   "cell_type": "markdown",
   "metadata": {
    "nbpresent": {
     "id": "3c570510-a566-4f00-b6e1-1a8ad4ba74cd"
    }
   },
   "source": [
    "# XGBoost"
   ]
  },
  {
   "cell_type": "code",
   "execution_count": 13,
   "metadata": {
    "nbpresent": {
     "id": "dfaa72ad-d144-4aa2-ba33-178f9a6025c1"
    }
   },
   "outputs": [
    {
     "name": "stdout",
     "output_type": "stream",
     "text": [
      "1025\n",
      "Log loss: 0.598824\n",
      "Accuracy: 0.680800\n",
      "ROC score: 0.716694\n"
     ]
    }
   ],
   "source": [
    "from xgboost import XGBClassifier\n",
    "import xgboost as xgb\n",
    "import pandas as pd\n",
    "import numpy as np\n",
    "from sklearn.linear_model import LogisticRegression\n",
    "from sklearn.metrics import (accuracy_score,roc_auc_score,log_loss)\n",
    "from sklearn.model_selection import GridSearchCV\n",
    "\n",
    "for n in [1025]:\n",
    "    for lr in [0.0039]:\n",
    "        for d in [8]:\n",
    "            XGB_Best = XGBClassifier(n_estimators=n,\\\n",
    "                                     learning_rate=lr,\\\n",
    "                                     max_depth=d,\\\n",
    "                                     min_child_weight = 3,\\\n",
    "                                     max_delta_step = 1,\\\n",
    "                                     colsample_bytree = 0.7,\\\n",
    "                                     objective='binary:logistic',\\\n",
    "                                     n_jobs=-1,\\\n",
    "                                     silent = 1,\\\n",
    "                                     eval_metric = 'logloss')\n",
    "            XGB_Best.fit(X_train,y_train)\n",
    "            y_predict_proba_XGB = XGB_Best.predict_proba(X_test)\n",
    "            accuracy_score_XGB = accuracy_score(y_test, XGB_Best.predict(X_test))\n",
    "            roc_auc_score_XGB = roc_auc_score(y_test, y_predict_proba_XGB[:,1])\n",
    "            score = log_loss(y_test, y_predict_proba_XGB[:,1])\n",
    "            print(n)\n",
    "            print('Log loss: %f' %score)    \n",
    "            print('Accuracy: %f' %accuracy_score_XGB)    \n",
    "            print('ROC score: %f' %roc_auc_score_XGB)    \n"
   ]
  },
  {
   "cell_type": "markdown",
   "metadata": {},
   "source": [
    "# Neural Network"
   ]
  },
  {
   "cell_type": "code",
   "execution_count": 20,
   "metadata": {},
   "outputs": [
    {
     "name": "stdout",
     "output_type": "stream",
     "text": [
      "Log loss: 0.619778\n",
      "Accuracy: 0.675200\n",
      "ROC score: 0.678740\n"
     ]
    }
   ],
   "source": [
    "from sklearn.neural_network import MLPClassifier\n",
    "#for n in range(20,200,50):\n",
    "NN = MLPClassifier(solver='adam', activation='tanh', alpha=0.01, hidden_layer_sizes=(50,20,20,10))\n",
    "NN.fit(X_train, y_train)                         \n",
    "y_predict_proba_NN = NN.predict_proba(X_test)\n",
    "accuracy_score_NN = accuracy_score(y_test, NN.predict(X_test))\n",
    "roc_auc_score_NN = roc_auc_score(y_test, y_predict_proba_NN[:,1])\n",
    "score = log_loss(y_test, y_predict_proba_NN[:,1])\n",
    "y_predict_proba_NN_train = NN.predict_proba(X_train)\n",
    "score_training= log_loss(y_train, y_predict_proba_NN_train[:,1])\n",
    "\n",
    "print('Log loss: %f' %score)    \n",
    "print('Accuracy: %f' %accuracy_score_NN)    \n",
    "print('ROC score: %f' %roc_auc_score_NN)  \n",
    "\n"
   ]
  },
  {
   "cell_type": "markdown",
   "metadata": {},
   "source": [
    "## ROC diagram"
   ]
  },
  {
   "cell_type": "code",
   "execution_count": 24,
   "metadata": {},
   "outputs": [
    {
     "data": {
      "image/png": "[encoded data removed]",
      "text/plain": [
       "<matplotlib.figure.Figure at 0x7f82fc88ebe0>"
      ]
     },
     "metadata": {},
     "output_type": "display_data"
    }
   ],
   "source": [
    "from sklearn.metrics import roc_curve, roc_auc_score\n",
    "import matplotlib\n",
    "\n",
    "# LR\n",
    "fpr_LR, tpr_LR, thresholds_LR = roc_curve(y_test, y_predict_proba_LR[:,1])\n",
    "AUC_LR = roc_auc_score(y_test, y_predict_proba_LR[:,1])\n",
    "\n",
    "# DT with gini\n",
    "fpr_gini, tpr_gini, thresholds_gini = roc_curve(y_test, y_predict_proba_clf_gini[:,1])\n",
    "AUC_gini = roc_auc_score(y_test, y_predict_proba_clf_gini[:,1])\n",
    "\n",
    "# # DT with entropy\n",
    "# fpr_entropy, tpr_entropy, thresholds_entropy = roc_curve(y_test, y_predict_proba_clf_entropy[:,1])\n",
    "# AUC_entropy = roc_auc_score(y_test, y_predict_proba_clf_entropy[:,1])\n",
    "\n",
    "# Random Forest\n",
    "fpr_RF, tpr_RF, thresholds_RF = roc_curve(y_test, y_predict_proba_RFC[:,1])\n",
    "AUC_RF = roc_auc_score(y_test, y_predict_proba_RFC[:,1])\n",
    "\n",
    "# AdaBoost\n",
    "fpr_Ada, tpr_Ada, thresholds_Ada = roc_curve(y_test, y_predict_proba_AdaBC[:,1])\n",
    "AUC_Ada = roc_auc_score(y_test, y_predict_proba_AdaBC[:,1])\n",
    "\n",
    "# GBDT\n",
    "fpr_GBDT, tpr_GBDT, thresholds_GBDT = roc_curve(y_test, y_predict_proba_GBDT[:,1])\n",
    "AUC_GBDT = roc_auc_score(y_test, y_predict_proba_GBDT[:,1])\n",
    "\n",
    "# XGBoost\n",
    "fpr_XGB, tpr_XGB, thresholds_XGB = roc_curve(y_test, y_predict_proba_XGB[:,1])\n",
    "AUC_XGB = roc_auc_score(y_test, y_predict_proba_XGB[:,1])\n",
    "\n",
    "# Neural Networs\n",
    "fpr_NN, tpr_NN, thresholds_NN = roc_curve(y_test, y_predict_proba_NN[:,1])\n",
    "AUC_NN = roc_auc_score(y_test, y_predict_proba_NN[:,1])\n",
    "\n",
    "Fig = plt.figure(figsize=(8,8)) \n",
    "LR_plot, = plt.plot(fpr_LR, tpr_LR, 'g', label=\"Logistic: AUC = \" + str(AUC_LR))\n",
    "GINI_plot, = plt.plot(fpr_gini, tpr_gini, 'r', label=\"DT with gini: AUC = \" + str(AUC_gini))\n",
    "#ENTROPY_plot, = plt.plot(fpr_entropy, tpr_entropy, 'b', label=\"DT with entropy: AUC = \" + str(AUC_entropy))\n",
    "RF_plot, = plt.plot(fpr_RF, tpr_RF, 'm', label=\"Random forest: AUC = \" + str(AUC_RF))\n",
    "Ada_plot, = plt.plot(fpr_Ada, tpr_Ada, 'c', label=\"AdaBoost: AUC = \" + str(AUC_Ada))\n",
    "GBDT_plot, = plt.plot(fpr_GBDT, tpr_GBDT, 'y', label=\"GBDT: AUC = \" + str(AUC_GBDT))\n",
    "XGB_plot, = plt.plot(fpr_XGB, tpr_XGB, 'k', label=\"XGBoost: AUC = \" + str(AUC_XGB))\n",
    "#XGB_plot, = plt.plot(fpr_NN, tpr_NN, 'r', label=\"Neural Network: AUC = \" + str(AUC_NN))\n",
    "matplotlib.rcParams.update({'font.size': 20})\n",
    "plt.legend(handles=[LR_plot, GINI_plot, RF_plot, Ada_plot, GBDT_plot, XGB_plot])\n",
    "plt.xlabel('False Positive Rate', fontsize=20)\n",
    "plt.ylabel('True Positive Rate', fontsize=20)\n",
    "plt.title('ROC curves', fontsize=20)\n",
    "plt.legend(fontsize = 16, loc = 0)\n",
    "plt.show()\n",
    "Fig.savefig('RoC.eps', format='eps',dpi=1200)"
   ]
  },
  {
   "cell_type": "markdown",
   "metadata": {},
   "source": [
    "## Time Series Test with LR"
   ]
  },
  {
   "cell_type": "code",
   "execution_count": 75,
   "metadata": {},
   "outputs": [
    {
     "name": "stdout",
     "output_type": "stream",
     "text": [
      "accuracy 0.675600\n",
      "log loss 0.628203\n"
     ]
    }
   ],
   "source": [
    "from sklearn import preprocessing\n",
    "import pandas as pd\n",
    "import numpy as np\n",
    "from sklearn.metrics import (accuracy_score,roc_auc_score,log_loss)\n",
    "from xgboost import XGBClassifier\n",
    "import xgboost as xgb\n",
    "\n",
    "predic_prob = np.zeros((5000,1),dtype=float)\n",
    "predic = np.zeros((5000,1),dtype=float)\n",
    "\n",
    "i=0\n",
    "start = 0\n",
    "for raw_date in pd.unique(Unknown_Data_Transformed['game_date']):\n",
    "    Sub_Known_Data_Transformed = Known_Data_Transformed[Known_Data_Transformed.apply(lambda x: x['game_date'] <= raw_date, axis=1)]\n",
    "    #Sub_Known_Data_Transformed = Known_Data_Transformed\n",
    "    Sub_Known_Data_Transformed = Sub_Known_Data_Transformed.drop(['game_date'], axis=1)\n",
    "    number_allowable_data = Sub_Known_Data_Transformed.shape[0]\n",
    "    \n",
    "    #Dataframe to matrix training\n",
    "    X_sub_training = Sub_Known_Data_Transformed.drop(['shot_made_flag'], axis=1)\n",
    "    X_sub_training = X_sub_training.as_matrix()\n",
    "    y_sub_train = Sub_Known_Data_Transformed['shot_made_flag']\n",
    "    y_sub_train = y_sub_train.as_matrix()\n",
    "      \n",
    "    #Training Model\n",
    "#     XGB_Best = XGBClassifier(n_estimators=1050,\\\n",
    "#                              learning_rate=0.0038,\\\n",
    "#                              max_depth=10,\\\n",
    "#                              min_child_weight = 3,\\\n",
    "#                              max_delta_step = 1,\\\n",
    "#                              colsample_bytree = 0.7,\\\n",
    "#                              objective='binary:logistic',\\\n",
    "#                              n_jobs=-1,\\\n",
    "#                              silent = 1,\\\n",
    "#                              eval_metric = 'logloss')\n",
    "#     XGB_Best.fit(X_sub_training,y_sub_train) \n",
    "\n",
    "    LR = LogisticRegression(penalty='l1', dual=False, tol=0.0001, C=1.0, fit_intercept=True, \\\n",
    "                        intercept_scaling=1, class_weight=None, random_state=None, solver='liblinear', \\\n",
    "                        max_iter=10000, multi_class='ovr', verbose=0, warm_start=False, n_jobs=1)\n",
    "    LR.fit(X_sub_training,y_sub_train)\n",
    "    \n",
    "    XGB_Best = LR\n",
    "    \n",
    "    #Prediction Process\n",
    "    to_predict = Unknown_Data_Transformed[Unknown_Data_Transformed.apply(lambda x: x['game_date'] == raw_date, axis=1)]\n",
    "    #to_predict = Unknown_Data_Transformed\n",
    "    to_predict = to_predict.drop(['shot_made_flag','game_date'], axis=1)\n",
    "    to_predict = to_predict.as_matrix()\n",
    "    y_predict_proba_XGB = XGB_Best.predict_proba(to_predict)\n",
    "    number_predict = y_predict_proba_XGB.shape[0]\n",
    "    y_predict_proba = y_predict_proba_XGB[:,1]\n",
    "    y_predict_proba = y_predict_proba.reshape(-1,1)\n",
    "    predic_prob[start:start+number_predict] = y_predict_proba\n",
    "    y_predict = XGB_Best.predict(to_predict)\n",
    "    y_predict = y_predict.reshape(-1,1)\n",
    "    predic[start:start+number_predict] = y_predict\n",
    "    \n",
    "    #Prediction for next date\n",
    "    start = start+number_predict\n",
    "    if start >= 5000:\n",
    "        break\n",
    "y_test = Unknown_Data_Transformed['shot_made_flag']\n",
    "y_test = y_test.as_matrix()\n",
    "y_test_sub = y_test[0:start]\n",
    "accuracy = accuracy_score(y_test_sub, predic[0:start])\n",
    "score_test = log_loss(y_test_sub, predic_prob[0:start])\n",
    "print('accuracy %f' %accuracy)\n",
    "print('log loss %f' %score_test)"
   ]
  },
  {
   "cell_type": "markdown",
   "metadata": {},
   "source": [
    "## Time Series Test with XGBoost"
   ]
  },
  {
   "cell_type": "code",
   "execution_count": null,
   "metadata": {
    "collapsed": true
   },
   "outputs": [],
   "source": [
    "from sklearn import preprocessing\n",
    "import pandas as pd\n",
    "import numpy as np\n",
    "from sklearn.metrics import (accuracy_score,roc_auc_score,log_loss)\n",
    "import xgboost as xgb\n",
    "from xgboost import XGBClassifier\n",
    "\n",
    "\n",
    "predic_prob = np.zeros((5000,1),dtype=float)\n",
    "predic = np.zeros((5000,1),dtype=float)\n",
    "\n",
    "i=0\n",
    "start = 0\n",
    "for raw_date in pd.unique(Unknown_Data_Transformed['game_date']):\n",
    "    Sub_Known_Data_Transformed = Known_Data_Transformed[Known_Data_Transformed.apply(lambda x: x['game_date'] <= raw_date, axis=1)]\n",
    "    #Sub_Known_Data_Transformed = Known_Data_Transformed\n",
    "    Sub_Known_Data_Transformed = Sub_Known_Data_Transformed.drop(['game_date'], axis=1)\n",
    "    number_allowable_data = Sub_Known_Data_Transformed.shape[0]\n",
    "    \n",
    "    #Dataframe to matrix training\n",
    "    X_sub_training = Sub_Known_Data_Transformed.drop(['shot_made_flag'], axis=1)\n",
    "    X_sub_training = X_sub_training.as_matrix()\n",
    "    y_sub_train = Sub_Known_Data_Transformed['shot_made_flag']\n",
    "    y_sub_train = y_sub_train.as_matrix()\n",
    "      \n",
    "    #Training Model\n",
    "    XGB_Best = XGBClassifier(n_estimators=1050,\\\n",
    "                             learning_rate=0.0038,\\\n",
    "                             max_depth=10,\\\n",
    "                             min_child_weight = 3,\\\n",
    "                             max_delta_step = 1,\\\n",
    "                             colsample_bytree = 0.7,\\\n",
    "                             objective='binary:logistic',\\\n",
    "                             n_jobs=-1,\\\n",
    "                             silent = 1,\\\n",
    "                             eval_metric = 'logloss')\n",
    "    XGB_Best.fit(X_sub_training,y_sub_train) \n",
    "\n",
    "#     LR = LogisticRegression(penalty='l1', dual=False, tol=0.0001, C=1.0, fit_intercept=True, \\\n",
    "#                         intercept_scaling=1, class_weight=None, random_state=None, solver='liblinear', \\\n",
    "#                         max_iter=10000, multi_class='ovr', verbose=0, warm_start=False, n_jobs=1)\n",
    "#     LR.fit(X_sub_training,y_sub_train)\n",
    "    \n",
    "#     XGB_Best = LR\n",
    "    \n",
    "    #Prediction Process\n",
    "    to_predict = Unknown_Data_Transformed[Unknown_Data_Transformed.apply(lambda x: x['game_date'] == raw_date, axis=1)]\n",
    "    #to_predict = Unknown_Data_Transformed\n",
    "    to_predict = to_predict.drop(['shot_made_flag','game_date'], axis=1)\n",
    "    to_predict = to_predict.as_matrix()\n",
    "    y_predict_proba_XGB = XGB_Best.predict_proba(to_predict)\n",
    "    number_predict = y_predict_proba_XGB.shape[0]\n",
    "    y_predict_proba = y_predict_proba_XGB[:,1]\n",
    "    y_predict_proba = y_predict_proba.reshape(-1,1)\n",
    "    predic_prob[start:start+number_predict] = y_predict_proba\n",
    "    y_predict = XGB_Best.predict(to_predict)\n",
    "    y_predict = y_predict.reshape(-1,1)\n",
    "    predic[start:start+number_predict] = y_predict\n",
    "    \n",
    "    #Prediction for next date\n",
    "    start = start+number_predict\n",
    "    #print(start)\n",
    "    if start >= 5000:\n",
    "        break\n",
    "y_test = Unknown_Data_Transformed['shot_made_flag']\n",
    "y_test = y_test.as_matrix()\n",
    "y_test_sub = y_test[0:start]\n",
    "accuracy = accuracy_score(y_test_sub, predic[0:start])\n",
    "score_test = log_loss(y_test_sub, predic_prob[0:start])\n",
    "print('accuracy %f' %accuracy)\n",
    "print('log loss %f' %score_test)"
   ]
  },
  {
   "cell_type": "code",
   "execution_count": 45,
   "metadata": {},
   "outputs": [
    {
     "name": "stdout",
     "output_type": "stream",
     "text": [
      "1457\n"
     ]
    }
   ],
   "source": [
    "from sklearn import preprocessing\n",
    "import pandas as pd\n",
    "import numpy as np\n",
    "from sklearn.metrics import (accuracy_score,roc_auc_score,log_loss)\n",
    "import xgboost as xgb\n",
    "from xgboost import XGBClassifier\n",
    "\n",
    "predic_prob = np.zeros((5000,1),dtype=float)\n",
    "predic = np.zeros((5000,1),dtype=float)\n",
    "n_model = pd.unique(Unknown_Data_Transformed['game_date']).shape[0]\n",
    "print(n_model)\n",
    "n_model_array = np.zeros((n_model,1),dtype=int)\n",
    "\n",
    "U = Unknown_Data_Transformed[['game_date']]\n",
    "U = U.sort_values('game_date')\n",
    "U = U['game_date']\n",
    "i=0\n",
    "start = 0\n",
    "for raw_date in pd.unique(U):\n",
    "    Sub_Known_Data_Transformed = Known_Data_Transformed[Known_Data_Transformed.apply(lambda x: x['game_date'] <= raw_date, axis=1)]\n",
    "    #Sub_Known_Data_Transformed = Sub_Known_Data_Transformed.drop(['game_date'], axis=1)\n",
    "    number_allowable_data = Sub_Known_Data_Transformed.shape[0]\n",
    "    n_model_array[i] = number_allowable_data\n",
    "    i = i + 1\n"
   ]
  },
  {
   "cell_type": "code",
   "execution_count": 46,
   "metadata": {},
   "outputs": [
    {
     "data": {
      "image/png": "[encoded data removed]",
      "text/plain": [
       "<matplotlib.figure.Figure at 0x7ffa5f4cc5f8>"
      ]
     },
     "metadata": {},
     "output_type": "display_data"
    }
   ],
   "source": [
    "Fig5 = plt.figure(figsize=(10,10)) \n",
    "plt.plot(range(0,n_model,1),n_model_array,linewidth=10)\n",
    "plt.xlabel('Index of shot to be predicted with their dates in ascending order', fontsize=20)\n",
    "plt.ylabel('Number of available training data', fontsize=20)\n",
    "plt.xticks(size = 16)\n",
    "plt.yticks(size = 16)\n",
    "plt.show()\n",
    "Fig5.savefig('Num.eps', format='eps', dpi=1000)"
   ]
  },
  {
   "cell_type": "markdown",
   "metadata": {},
   "source": [
    "# Plot the evolution of Accuracy and Logloss"
   ]
  },
  {
   "cell_type": "code",
   "execution_count": null,
   "metadata": {
    "collapsed": true
   },
   "outputs": [],
   "source": [
    "y_test = Unknown_Data_Transformed[[u'shot_made_flag',u'game_date']]\n",
    "y_test['prob'] = predic_prob\n",
    "y_test['predic'] = predic\n",
    "y_test = y_test.sort_values('game_date')\n",
    "unknown_date = pd.unique(Unknown_Data_Transformed['game_date'])\n",
    "N_unknown_date = unknown_date.shape[0]\n",
    "accuracy_arr = np.zeros((N_unknown_date,1),dtype=float)\n",
    "logloss_arr = np.zeros((N_unknown_date,1),dtype=float)\n",
    "i=0\n",
    "for raw_date in pd.unique(y_test['game_date']):\n",
    "    Sub_y_test = y_test[y_test.apply(lambda x: x['game_date'] <= raw_date, axis=1)]\n",
    "    y_test_predic = Sub_y_test['predic']\n",
    "    y_test_predic = y_test_predic.as_matrix()\n",
    "    y_test_true = Sub_y_test['shot_made_flag']\n",
    "    y_test_true = y_test_true.as_matrix()\n",
    "    y_test_prob = Sub_y_test['prob']\n",
    "    y_test_prob = y_test_prob.as_matrix()\n",
    "    accuracy_arr[i] = accuracy_score(y_test_true, y_test_predic)\n",
    "    logloss_arr[i]= log_loss(y_test_true, y_test_prob)\n",
    "    i= i + 1"
   ]
  },
  {
   "cell_type": "code",
   "execution_count": null,
   "metadata": {
    "collapsed": true
   },
   "outputs": [],
   "source": [
    "Fig2 = plt.figure(figsize=(10,10)) \n",
    "plt.plot(range(0,N_unknown_date,1),accuracy_arr,linewidth=8)\n",
    "matplotlib.rcParams.update({'font.size': 20})\n",
    "plt.xlabel('Index of shot to be predicted with their dates in ascending order', fontsize=20)\n",
    "plt.ylabel('Accuracy', fontsize=20)\n",
    "plt.title('Time Series Analysis', fontsize=20)\n",
    "plt.show()\n",
    "Fig2.savefig('Accuracy.eps', format='eps', dpi=1000)\n",
    "\n",
    "Fig3, ax = plt.subplots(figsize=(10, 10)) # create a new figure with a default 111 subplot\n",
    "ax.plot(range(0,N_unknown_date,1),logloss_arr,linewidth=8)\n",
    "matplotlib.rcParams.update({'font.size': 20})\n",
    "ax.set_xlabel('Index of shot to be predicted with their dates in ascending order', fontsize=20)\n",
    "ax.set_ylabel('Log Loss', fontsize=20)\n",
    "ax.set_title('Time Series Analysis', fontsize=20)\n",
    "\n",
    "from mpl_toolkits.axes_grid1.inset_locator import zoomed_inset_axes\n",
    "axins = zoomed_inset_axes(ax, 2, loc=1)\n",
    "axins.plot(range(0,N_unknown_date,1),logloss_arr,linewidth=4)\n",
    "x1, x2, y1, y2 = 10, 300, 0.62, 4 # specify the limits\n",
    "axins.set_xlim(x1, x2) # apply the x-limits\n",
    "axins.set_ylim(y1, y2) # apply the y-limits\n",
    "axins.autoscale\n",
    "plt.yticks(visible=True)\n",
    "plt.xticks(visible=True)\n",
    "from mpl_toolkits.axes_grid1.inset_locator import mark_inset\n",
    "mark_inset(ax, axins, loc1=2, loc2=4, fc=\"none\", ec=\"0.5\")\n",
    "Fig3.savefig('Logloss.eps', format='eps', dpi=1000)"
   ]
  },
  {
   "cell_type": "markdown",
   "metadata": {},
   "source": [
    "# Plot the evolution of Accuracy and Logloss 2"
   ]
  },
  {
   "cell_type": "code",
   "execution_count": null,
   "metadata": {
    "collapsed": true
   },
   "outputs": [],
   "source": [
    "y_test = Unknown_Data_Transformed[[u'shot_made_flag',u'game_date']]\n",
    "y_test['prob'] = predic_prob\n",
    "y_test['predic'] = predic\n",
    "y_test = y_test.sort_values('game_date')\n",
    "y_test_predic = y_test['predic']\n",
    "y_test_predic = y_test_predic.as_matrix()\n",
    "y_test_true = y_test['shot_made_flag']\n",
    "y_test_true = y_test_true.as_matrix()\n",
    "y_test_prob = y_test['prob']\n",
    "y_test_prob = y_test_prob.as_matrix()\n",
    "accuracy_arr = np.zeros((5000,1),dtype=float)\n",
    "logloss_arr = np.zeros((5000,1),dtype=float)\n",
    "\n",
    "for n in range(1,5001,1):\n",
    "    accuracy_arr[n-1] = accuracy_score(y_test_true[0:n], y_test_predic[0:n])\n",
    "    if n > 3:\n",
    "        logloss_arr[n-1] = log_loss(y_test_true[0:n], y_test_prob[0:n])\n",
    "plt.figure(figsize=(8,6)) \n",
    "a_range = range(0,5000,1)\n",
    "plt.plot(a_range,accuracy_arr)\n",
    "\n",
    "plt.figure(figsize=(8,6)) \n",
    "a_range = range(500,5000,1)\n",
    "plt.plot(a_range,logloss_arr[500:5000])"
   ]
  }
 ],
 "metadata": {
  "kernelspec": {
   "display_name": "Python 3 Spark - local",
   "language": "python",
   "name": "spark-3-python"
  },
  "language_info": {
   "codemirror_mode": {
    "name": "ipython",
    "version": 3
   },
   "file_extension": ".py",
   "mimetype": "text/x-python",
   "name": "python",
   "nbconvert_exporter": "python",
   "pygments_lexer": "ipython3",
   "version": "3.5.2"
  },
  "name": "EE380L_HW2.ipynb"
 },
 "nbformat": 4,
 "nbformat_minor": 1
}
